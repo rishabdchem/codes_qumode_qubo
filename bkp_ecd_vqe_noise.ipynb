{
  "cells": [
    {
      "cell_type": "markdown",
      "metadata": {
        "id": "7XhuNJChtOMC"
      },
      "source": [
        "# Binary knapsack optimization on qumodes with noise"
      ]
    },
    {
      "cell_type": "markdown",
      "metadata": {
        "id": "AIZZvMz22Vn1"
      },
      "source": [
        "## Prerequisite"
      ]
    },
    {
      "cell_type": "markdown",
      "source": [
        "Cell for Google Colab users."
      ],
      "metadata": {
        "id": "u6pn3OHLScnU"
      }
    },
    {
      "cell_type": "code",
      "execution_count": null,
      "metadata": {
        "colab": {
          "base_uri": "https://localhost:8080/"
        },
        "id": "aNxh-VpH0540",
        "outputId": "42c3e3c0-5f3b-4593-d5fc-d0525651dc3d"
      },
      "outputs": [
        {
          "output_type": "stream",
          "name": "stdout",
          "text": [
            "Collecting git+https://github.com/sympy/sympy.git\n",
            "  Cloning https://github.com/sympy/sympy.git to /tmp/pip-req-build-62ty6roi\n",
            "  Running command git clone --filter=blob:none --quiet https://github.com/sympy/sympy.git /tmp/pip-req-build-62ty6roi\n",
            "  Resolved https://github.com/sympy/sympy.git to commit c741214e5be1cdd0ede61bc01eecf0eb3a67ea4e\n",
            "  Installing build dependencies ... \u001b[?25l\u001b[?25hdone\n",
            "  Getting requirements to build wheel ... \u001b[?25l\u001b[?25hdone\n",
            "  Preparing metadata (pyproject.toml) ... \u001b[?25l\u001b[?25hdone\n",
            "Requirement already satisfied: mpmath>=1.1.0 in /usr/local/lib/python3.10/dist-packages (from sympy==1.14.dev0) (1.3.0)\n",
            "Building wheels for collected packages: sympy\n",
            "  Building wheel for sympy (pyproject.toml) ... \u001b[?25l\u001b[?25hdone\n",
            "  Created wheel for sympy: filename=sympy-1.14.dev0-py3-none-any.whl size=6256771 sha256=6e48145bc148fc576bb43362bf9c8efbcba7a19641991a54bf3c31d14f5ce49f\n",
            "  Stored in directory: /tmp/pip-ephem-wheel-cache-kl45alh8/wheels/77/06/c3/4de376dd4507851c07f5b7581d16e85d493a4ec0f0adbc6423\n",
            "Successfully built sympy\n",
            "Installing collected packages: sympy\n",
            "  Attempting uninstall: sympy\n",
            "    Found existing installation: sympy 1.13.1\n",
            "    Uninstalling sympy-1.13.1:\n",
            "      Successfully uninstalled sympy-1.13.1\n",
            "\u001b[31mERROR: pip's dependency resolver does not currently take into account all the packages that are installed. This behaviour is the source of the following dependency conflicts.\n",
            "torch 2.5.1+cu121 requires sympy==1.13.1; python_version >= \"3.9\", but you have sympy 1.14.dev0 which is incompatible.\u001b[0m\u001b[31m\n",
            "\u001b[0mSuccessfully installed sympy-1.14.dev0\n",
            "Collecting qutip\n",
            "  Downloading qutip-5.0.4-cp310-cp310-manylinux_2_17_x86_64.manylinux2014_x86_64.whl.metadata (9.2 kB)\n",
            "Requirement already satisfied: numpy>=1.22 in /usr/local/lib/python3.10/dist-packages (from qutip) (1.26.4)\n",
            "Requirement already satisfied: scipy>=1.9 in /usr/local/lib/python3.10/dist-packages (from qutip) (1.13.1)\n",
            "Requirement already satisfied: packaging in /usr/local/lib/python3.10/dist-packages (from qutip) (24.2)\n",
            "Downloading qutip-5.0.4-cp310-cp310-manylinux_2_17_x86_64.manylinux2014_x86_64.whl (28.0 MB)\n",
            "\u001b[2K   \u001b[90m━━━━━━━━━━━━━━━━━━━━━━━━━━━━━━━━━━━━━━━━\u001b[0m \u001b[32m28.0/28.0 MB\u001b[0m \u001b[31m75.9 MB/s\u001b[0m eta \u001b[36m0:00:00\u001b[0m\n",
            "\u001b[?25hInstalling collected packages: qutip\n",
            "Successfully installed qutip-5.0.4\n",
            "Requirement already satisfied: scipy in /usr/local/lib/python3.10/dist-packages (1.13.1)\n",
            "Requirement already satisfied: numpy<2.3,>=1.22.4 in /usr/local/lib/python3.10/dist-packages (from scipy) (1.26.4)\n"
          ]
        }
      ],
      "source": [
        "!pip install git+https://github.com/sympy/sympy.git\n",
        "!pip install qutip\n",
        "!pip install scipy"
      ]
    },
    {
      "cell_type": "markdown",
      "source": [
        "Packages."
      ],
      "metadata": {
        "id": "4TJSzAYtShdf"
      }
    },
    {
      "cell_type": "code",
      "execution_count": null,
      "metadata": {
        "id": "I7Gf1uVKYjq8"
      },
      "outputs": [],
      "source": [
        "import numpy as np\n",
        "import qutip as qt\n",
        "import sympy as sp\n",
        "import scipy.optimize as sciopt"
      ]
    },
    {
      "cell_type": "code",
      "execution_count": null,
      "metadata": {
        "id": "goicC6oABTrn"
      },
      "outputs": [],
      "source": [
        "from math import factorial\n",
        "from functools import partial"
      ]
    },
    {
      "cell_type": "code",
      "execution_count": null,
      "metadata": {
        "id": "nn-aIHWIyRHm"
      },
      "outputs": [],
      "source": [
        "import matplotlib.pyplot as plt"
      ]
    },
    {
      "cell_type": "markdown",
      "metadata": {
        "id": "2AqDuXYWj11q"
      },
      "source": [
        "## Ansatz"
      ]
    },
    {
      "cell_type": "markdown",
      "metadata": {
        "id": "wgB8PkjQj6xa"
      },
      "source": [
        "### Basics"
      ]
    },
    {
      "cell_type": "code",
      "execution_count": null,
      "metadata": {
        "id": "Di02NNjlj2pV"
      },
      "outputs": [],
      "source": [
        "def get_cvec_np(r, theta):\n",
        "    r = np.array(r)\n",
        "    theta = np.array(theta)\n",
        "    return r * np.exp(1j * theta)"
      ]
    },
    {
      "cell_type": "code",
      "execution_count": null,
      "metadata": {
        "id": "PswxXGiyj8UQ"
      },
      "outputs": [],
      "source": [
        "def pack_variables(beta_mag, beta_arg, theta, phi):\n",
        "    Xvec = np.concatenate([\n",
        "        beta_mag.ravel(),\n",
        "        beta_arg.ravel(),\n",
        "        theta.ravel(),\n",
        "        phi.ravel()\n",
        "    ])\n",
        "    return Xvec\n",
        "\n",
        "\n",
        "def unpack_variables(Xvec, ndepth):\n",
        "    size = ndepth * 2\n",
        "\n",
        "    beta_mag = Xvec[:size].reshape((ndepth, 2))\n",
        "    beta_arg = Xvec[size:2*size].reshape((ndepth, 2))\n",
        "    theta = Xvec[2*size:3*size].reshape((ndepth, 2))\n",
        "    phi = Xvec[3*size:].reshape((ndepth, 2))\n",
        "\n",
        "    return beta_mag, beta_arg, theta, phi"
      ]
    },
    {
      "cell_type": "code",
      "execution_count": null,
      "metadata": {
        "id": "QxYRhoW0j-B_"
      },
      "outputs": [],
      "source": [
        "def qproj00():\n",
        "    return qt.basis(2, 0).proj()\n",
        "\n",
        "\n",
        "def qproj11():\n",
        "    return qt.basis(2, 1).proj()\n",
        "\n",
        "\n",
        "def qproj01():\n",
        "    op = np.array([[0, 1], [0, 0]])\n",
        "    return qt.Qobj(op)\n",
        "\n",
        "\n",
        "def qproj10():\n",
        "    op = np.array([[0, 0], [1, 0]])\n",
        "    return qt.Qobj(op)"
      ]
    },
    {
      "cell_type": "markdown",
      "metadata": {
        "id": "_qnqwAksj-m1"
      },
      "source": [
        "### ECDs with qubit rotations"
      ]
    },
    {
      "cell_type": "markdown",
      "metadata": {
        "id": "YNMgSwRCkDoX"
      },
      "source": [
        "Qubit rotation with qumode echoed conditional displacement (ECD) operators ([reference](https://doi.org/10.1038/s41567-022-01776-9)) for one qubit and two qumodes\n",
        "\n",
        "\\begin{align*}\n",
        "U (\\vec{\\beta}, \\vec{\\theta}, \\vec{\\phi})\n",
        "&= ECD_2 (\\beta_2) \\:\n",
        "\\big[ R (\\theta_2, \\phi_2) \\otimes I \\otimes I \\big] \\:\n",
        "ECD_1 (\\beta_1) \\:\n",
        "\\big[ R (\\theta_1, \\phi_1) \\otimes I \\otimes I \\big]\n",
        "\\\\\n",
        "ECD_1 (\\beta_1)\n",
        "&= |1 \\rangle \\langle 0| \\otimes D (\\beta_1 / 2) \\otimes I  \n",
        "+ |0 \\rangle \\langle 1| \\otimes D (-\\beta_1 / 2) \\otimes I,\n",
        "\\\\\n",
        "ECD_2 (\\beta_2)\n",
        "&= |1 \\rangle \\langle 0| \\otimes I \\otimes D (\\beta_2 / 2)\n",
        "+ |0 \\rangle \\langle 1| \\otimes I \\otimes D (-\\beta_2 / 2),\n",
        "\\end{align*}\n",
        "\n",
        "where\n",
        "$ R (\\theta, \\phi)\n",
        "= e^{ - i (\\theta / 2) \\big[ \\cos(\\phi) X + \\sin(\\phi) Y \\big] } $ and\n",
        "$ D (\\beta) = e^{ \\beta a^\\dagger - \\beta^* a } $."
      ]
    },
    {
      "cell_type": "code",
      "execution_count": null,
      "metadata": {
        "id": "lZ7h5HV4kArK"
      },
      "outputs": [],
      "source": [
        "def qubit_rot(theta, phi):\n",
        "    \"\"\"\n",
        "    R (theta, phi) = exp[ −i (theta/2) ( X cos(phi) + Y sin(phi) ) ].\n",
        "\n",
        "    Arguments:\n",
        "    theta, phi: rotation parameters\n",
        "    \"\"\"\n",
        "    gen = ( qt.sigmax() * np.cos(phi) )\n",
        "    gen += ( qt.sigmay() * np.sin(phi) )\n",
        "\n",
        "    H = -1j * (theta / 2) * gen\n",
        "\n",
        "    return H.expm()"
      ]
    },
    {
      "cell_type": "code",
      "execution_count": null,
      "metadata": {
        "id": "fGyqm2BIkGNF"
      },
      "outputs": [],
      "source": [
        "def ecd_op(beta, theta, phi, cind, nfocks):\n",
        "    \"\"\"\n",
        "    ECD operator.\n",
        "\n",
        "    Arguments:\n",
        "    beta -- ECD parameter\n",
        "    theta, phi -- rotation parameters\n",
        "    cind -- qumode index\n",
        "    nfocks -- Fock cutoffs\n",
        "    \"\"\"\n",
        "    # Validate cind\n",
        "    if cind not in (0, 1):\n",
        "        raise ValueError(\"cind must be 0 or 1\")\n",
        "\n",
        "    # ECD\n",
        "    if cind == 0:\n",
        "        E2 = qt.tensor(qproj10(), qt.displace(nfocks[0], beta / 2))\n",
        "        E2 += qt.tensor(qproj01(), qt.displace(nfocks[0], -beta / 2))\n",
        "        E2 = qt.tensor(E2, qt.qeye(nfocks[1]))\n",
        "    else:\n",
        "        E2 = qt.tensor(qproj10(), qt.qeye(nfocks[0]), qt.displace(nfocks[1], beta / 2))\n",
        "        E2 += qt.tensor(qproj01(), qt.qeye(nfocks[0]), qt.displace(nfocks[1], -beta / 2))\n",
        "\n",
        "    return E2"
      ]
    },
    {
      "cell_type": "code",
      "execution_count": null,
      "metadata": {
        "id": "a8mgfNOLkHu4"
      },
      "outputs": [],
      "source": [
        "def ecd_rot_op(beta, theta, phi, nfocks):\n",
        "    \"\"\"\n",
        "    ECD-rotation operator.\n",
        "\n",
        "    Arguments:\n",
        "    beta -- ECD parameters\n",
        "    theta, phi -- rotation parameters\n",
        "    nfocks -- Fock cutoffs\n",
        "    \"\"\"\n",
        "    # Rotations\n",
        "    R1 = qt.tensor(qubit_rot(theta[0], phi[0]), qt.qeye(nfocks[0]), qt.qeye(nfocks[1]))\n",
        "    R2 = qt.tensor(qubit_rot(theta[1], phi[1]), qt.qeye(nfocks[0]), qt.qeye(nfocks[1]))\n",
        "\n",
        "    # ECDs\n",
        "    E1 = ecd_op(beta[0], theta[0], phi[0], 0, nfocks)\n",
        "    E2 = ecd_op(beta[1], theta[1], phi[1], 1, nfocks)\n",
        "\n",
        "    return E2 * R2 * E1 * R1"
      ]
    },
    {
      "cell_type": "markdown",
      "metadata": {
        "id": "A123JxZ4kMVz"
      },
      "source": [
        "Build the ansatz matrix of depth $N_d$\n",
        "\n",
        "$$ \\mathcal{U} (\\bar{\\beta}, \\bar{\\theta}, \\bar{\\phi})\n",
        "= U (\\vec{\\beta}_{N_d}, \\vec{\\theta}_{N_d}, \\vec{\\phi}_{N_d}) \\cdots\n",
        "U (\\vec{\\beta}_1, \\vec{\\theta}_1, \\vec{\\phi}_1),\n",
        "$$\n",
        "\n",
        "where $\\bar{\\beta}, \\bar{\\theta}$, and $\\bar{\\phi}$ are matrices of dimensions $N_d \\times 2$.\n",
        "The matrix $\\bar{\\beta}$ is also complex-valued."
      ]
    },
    {
      "cell_type": "code",
      "execution_count": null,
      "metadata": {
        "id": "XdTaEqQfkJd7"
      },
      "outputs": [],
      "source": [
        "def ecd_rot_ansatz(bmag_mat, barg_mat, theta_mat, phi_mat, nfocks):\n",
        "    \"\"\"\n",
        "    ECD-rotation ansatz.\n",
        "\n",
        "    Arguments:\n",
        "    bmag_mat, barg_mat -- ECD parameters\n",
        "    theta_mat, phi_mat -- rotation parameters\n",
        "    nfocks -- Fock cutoffs\n",
        "    \"\"\"\n",
        "    # Check\n",
        "    if bmag_mat.shape != barg_mat.shape:\n",
        "        raise ValueError(\"Dimensions of bmag_mat and barg_mat do not match.\")\n",
        "    beta_mat = get_cvec_np(bmag_mat, barg_mat)\n",
        "    if beta_mat.shape != theta_mat.shape:\n",
        "        raise ValueError(\"Lengths of beta_mat and theta_mat do not match.\")\n",
        "    if beta_mat.shape != phi_mat.shape:\n",
        "        raise ValueError(\"Lengths of beta_mat and phi_mat do not match.\")\n",
        "\n",
        "    # Initialize\n",
        "    ndepth = beta_mat.shape[0]\n",
        "    uni = ecd_rot_op(beta_mat[0, :], theta_mat[0, :], phi_mat[0, :], nfocks)\n",
        "\n",
        "    # Check\n",
        "    if ndepth == 1:\n",
        "        return uni\n",
        "\n",
        "    # Loop through blocks\n",
        "    for i in range(1, ndepth):\n",
        "        new_uni = ecd_rot_op(beta_mat[i, :], theta_mat[i, :], phi_mat[i, :], nfocks)\n",
        "        uni = ( new_uni * uni )\n",
        "\n",
        "    return uni"
      ]
    },
    {
      "cell_type": "markdown",
      "metadata": {
        "id": "HtqShu-vixG1"
      },
      "source": [
        "## Hamiltonian"
      ]
    },
    {
      "cell_type": "markdown",
      "metadata": {
        "id": "-yGF22SRmwNK"
      },
      "source": [
        "### Basics"
      ]
    },
    {
      "cell_type": "code",
      "execution_count": null,
      "metadata": {
        "id": "_opH2jBbmxOm"
      },
      "outputs": [],
      "source": [
        "def decimal_to_binary(decimal_number, length):\n",
        "    # Convert the decimal number to binary and strip the '0b' prefix\n",
        "    binary_representation = bin(decimal_number)[2:]\n",
        "\n",
        "    # Pad the binary representation with leading zeros if necessary\n",
        "    padded_binary = binary_representation.zfill(length)\n",
        "\n",
        "    # If the padded length is less than the specified length, raise an error\n",
        "    if len(padded_binary) > length:\n",
        "        raise ValueError(\"The binary representation is longer than the specified length.\")\n",
        "\n",
        "    return padded_binary\n",
        "\n",
        "\n",
        "def binary_to_decimal(binary_string, length):\n",
        "    # Validate that the input is a binary string of the specified length\n",
        "    if len(binary_string) != length:\n",
        "        raise ValueError(f\"Input must be a binary string of length {length}.\")\n",
        "\n",
        "    if not all(bit in '01' for bit in binary_string):\n",
        "        raise ValueError(\"Input must be a binary string.\")\n",
        "\n",
        "    # Convert the binary string to decimal\n",
        "    decimal_number = int(binary_string, 2)\n",
        "\n",
        "    return decimal_number"
      ]
    },
    {
      "cell_type": "code",
      "execution_count": null,
      "metadata": {
        "id": "crdMfcpTm_SI"
      },
      "outputs": [],
      "source": [
        "def find_basis_state(state_vector):\n",
        "    # Convert input to a Qobj if it isn't already\n",
        "    if not isinstance(state_vector, qt.Qobj):\n",
        "        state_vector = qt.Qobj(state_vector)\n",
        "\n",
        "    # Get the number of qubits based on the length of the state vector\n",
        "    N = int(np.log2(state_vector.shape[0]))\n",
        "\n",
        "    # Check if the state vector is normalized\n",
        "    if not np.isclose(state_vector.norm(), 1):\n",
        "        raise ValueError(\"Input state vector must be normalized.\")\n",
        "\n",
        "    # Generate all possible basis states for N qubits\n",
        "    basis_states = [qt.basis(2**N, i) for i in range(2**N)]\n",
        "\n",
        "    # Check overlap with all basis states\n",
        "    for index, b in enumerate(basis_states):\n",
        "        overlap = state_vector.overlap(b)\n",
        "        if np.isclose(overlap, 1):\n",
        "            # Convert index to binary representation\n",
        "            return format(index, f'0{N}b')  # Format as binary string with leading zeros\n",
        "\n",
        "    # If no overlap found, return None (or raise an error)\n",
        "    return None"
      ]
    },
    {
      "cell_type": "markdown",
      "metadata": {
        "id": "uOycmeirmx81"
      },
      "source": [
        "### Qubit"
      ]
    },
    {
      "cell_type": "code",
      "execution_count": null,
      "metadata": {
        "id": "LkmCqVDzkfEp"
      },
      "outputs": [],
      "source": [
        "def binary_to_qubit_ham(H_bin, symbol_list, include_id=False):\n",
        "    \"\"\"\n",
        "    Map a symbolic binary Hamiltonian to a spin Hamiltonian.\n",
        "\n",
        "    Arguments:\n",
        "    H_bin -- The binary Hamiltonian as a SymPy object\n",
        "    symbol_list -- SymPy symbols defining the Hamiltonian\n",
        "    include_id -- identity as symbol (True) or value 1 (False)\n",
        "    \"\"\"\n",
        "    # Initialize spin variables (Z0, Z1, ..., Zn)\n",
        "    z_symbols = sp.symbols('z:{}'.format(len(symbol_list)))\n",
        "\n",
        "    # Define the identity operator (I_j)\n",
        "    Ident = sp.symbols(r'\\mathbb{I}') if include_id else 1.0\n",
        "\n",
        "    # Create a mapping dictionary from binary symbols to spin expressions\n",
        "    bin2spin_dict = {\n",
        "        symbol: (1/2)*(Ident - z) for symbol, z in zip(symbol_list, z_symbols)\n",
        "    }\n",
        "\n",
        "    # Convert the binary Hamiltonian to a spin Hamiltonian\n",
        "    spin_ham = H_bin.subs(bin2spin_dict).expand()\n",
        "\n",
        "    # Z^2 = I\n",
        "    sq_z = [z**2 for z in z_symbols]\n",
        "    sq_values = [Ident] * len(z_symbols)  # All squared terms map to the identity\n",
        "    spin_squared_map = dict(zip(sq_z, sq_values))\n",
        "\n",
        "    # Substitute squared terms\n",
        "    red_spin_ham = spin_ham.subs(spin_squared_map)\n",
        "\n",
        "    return red_spin_ham\n",
        "\n",
        "\n",
        "def check_spinz(input_list, spinz):\n",
        "    out_val = ['I']*len(spinz)\n",
        "    for ll in range(len(input_list)):\n",
        "        out_val[int(input_list[ll].strip('z'))] = 'Z'\n",
        "    return out_val\n",
        "\n",
        "\n",
        "def sympy_to_pauli_dict(smpy_exp):\n",
        "    \"\"\"\n",
        "    Convert a sympy spin Hamiltonian expression to a dictionary with\n",
        "    Pauli words as keys and string coefficients as values.\n",
        "    \"\"\"\n",
        "    # Determine the number of qubits\n",
        "    spinz = smpy_exp.free_symbols\n",
        "\n",
        "    # Split at spaces so we have the individual terms/coefficients\n",
        "    split_expr = str(smpy_exp).split()\n",
        "\n",
        "    # Firs iteration\n",
        "    matrix_dict = {}\n",
        "    split_term = split_expr[0].split('*')\n",
        "    tmp_coeff = split_term[0]\n",
        "    tmp_paulis = split_term[1:]\n",
        "    pauli_word = ''.join(check_spinz(tmp_paulis, spinz))\n",
        "    matrix_dict[pauli_word] = tmp_coeff\n",
        "\n",
        "    # Iterate through the remaining terms\n",
        "    for ii in range(1, len(split_expr), 2):\n",
        "        tmp_sign = split_expr[ii]\n",
        "        split_term = split_expr[ii+1].split('*')\n",
        "        tmp_coeff  = split_term[0]\n",
        "        tmp_paulis = split_term[1:]\n",
        "        pauli_word = ''.join(check_spinz(tmp_paulis, spinz))\n",
        "        matrix_dict[pauli_word] = tmp_sign+tmp_coeff\n",
        "\n",
        "    return matrix_dict\n",
        "\n",
        "\n",
        "def binary_to_pauli_list(H_total, symbol_list):\n",
        "    \"\"\"\n",
        "    Maps a binary Hamiltonian to Pauli terms and coefficients.\n",
        "\n",
        "    Arguments:\n",
        "    H_total -- The binary Hamiltonian\n",
        "    symbol_list -- symbols defining the Hamiltonian\n",
        "    \"\"\"\n",
        "    spin_ham = binary_to_qubit_ham(H_total, symbol_list)\n",
        "    op_dict = sympy_to_pauli_dict(spin_ham)\n",
        "\n",
        "    return [[key, float(value)] for key, value in op_dict.items()]"
      ]
    },
    {
      "cell_type": "markdown",
      "metadata": {
        "id": "vBDeLYW6m1jK"
      },
      "source": [
        "### Qudit"
      ]
    },
    {
      "cell_type": "code",
      "execution_count": null,
      "metadata": {
        "id": "j83yeOAskmfg"
      },
      "outputs": [],
      "source": [
        "def matrices_to_qudit_list(matrices):\n",
        "    \"\"\"\n",
        "    Maps list of matrices to qudit terms.\n",
        "\n",
        "    Argument:\n",
        "    matrices -- list of matrices\n",
        "    \"\"\"\n",
        "    # Initialize the result list\n",
        "    result = []\n",
        "\n",
        "    # Get the number of matrices\n",
        "    num_matrices = len(matrices)\n",
        "\n",
        "    # Create a list to store diagonal values from each matrix\n",
        "    diagonal_values = []\n",
        "\n",
        "    # Collect diagonal values and their labels\n",
        "    for index, matrix in enumerate(matrices):\n",
        "        diag = np.diagonal(matrix)  # Get the diagonal elements\n",
        "        diagonal_values.append((diag, index))  # Store as (diagonal_elements, index)\n",
        "\n",
        "    # Recursive function to generate combinations of indices\n",
        "    def generate_combinations(combination, depth):\n",
        "        if depth == num_matrices:\n",
        "            # Calculate the product for the current combination\n",
        "            product = 1\n",
        "            label = []\n",
        "            for matrix_index, diag_index in combination:\n",
        "                product *= matrices[matrix_index][diag_index, diag_index]\n",
        "                label.append(f'P{diag_index}')\n",
        "            result.append([ ', '.join(label), product ])\n",
        "            return\n",
        "\n",
        "        # Loop through the diagonal elements of the current matrix\n",
        "        diag, matrix_index = diagonal_values[depth]\n",
        "        for i in range(len(diag)):\n",
        "            generate_combinations(combination + [(matrix_index, i)], depth + 1)\n",
        "\n",
        "    # Start generating combinations\n",
        "    generate_combinations([], 0)\n",
        "\n",
        "    return result\n",
        "\n",
        "\n",
        "def partition_string_list(input_list, partition_vector):\n",
        "    \"\"\"\n",
        "    Partition the string in the input list based on the partition vector.\n",
        "\n",
        "    Arguments:\n",
        "    input_list -- A list where the first element is a string to partition,\n",
        "                  and the last element is a value to retain.\n",
        "    partition_vector -- A list of integers that specifies the lengths of the partitions.\n",
        "\n",
        "    Returns:\n",
        "    A new list with the partitioned string and the retained value.\n",
        "    \"\"\"\n",
        "    # Ensure the partition_vector is valid\n",
        "    string_part = input_list[0]\n",
        "    total_length = sum(partition_vector)\n",
        "\n",
        "    if total_length != len(string_part):\n",
        "        raise ValueError(\"The sum of the partition vector must equal the length of the string.\")\n",
        "\n",
        "    # Partition the string based on the partition vector\n",
        "    partitions = []\n",
        "    start_index = 0\n",
        "\n",
        "    for size in partition_vector:\n",
        "        partitions.append(string_part[start_index:start_index + size])\n",
        "        start_index += size\n",
        "\n",
        "    # Return the modified list\n",
        "    return partitions + [input_list[-1]]\n",
        "\n",
        "\n",
        "def partitioned_pauli_term_to_qudit_term(pterm):\n",
        "    mat_list = []\n",
        "    for i in range(len(pterm) - 1):\n",
        "        new_mat = generate_tensor_product(pterm[i])\n",
        "        if i == 0:\n",
        "            new_mat *= pterm[-1]\n",
        "        mat_list.append(np.real( new_mat.full() ))\n",
        "\n",
        "    return matrices_to_qudit_list(mat_list)\n",
        "\n",
        "\n",
        "def pauli_list_to_qudit_terms(pterms, partition_vector):\n",
        "    term_list = []\n",
        "    for term in pterms:\n",
        "        new_term = partition_string_list(term, partition_vector)\n",
        "        qudit_term = partitioned_pauli_term_to_qudit_term(new_term)\n",
        "        term_list.append(qudit_term)\n",
        "\n",
        "    result_dict = {}\n",
        "    for lst in term_list:\n",
        "        for key, value in lst:\n",
        "            if key in result_dict:\n",
        "                result_dict[key] += value\n",
        "            else:\n",
        "                result_dict[key] = value\n",
        "    return [[key, value] for key, value in result_dict.items()]"
      ]
    },
    {
      "cell_type": "markdown",
      "metadata": {
        "id": "ltgRibXPm5Fz"
      },
      "source": [
        "### Knapsack"
      ]
    },
    {
      "cell_type": "code",
      "execution_count": null,
      "metadata": {
        "id": "XEftHLHnkXYj"
      },
      "outputs": [],
      "source": [
        "def binary_knapsack_ham(l_val, values, weights, max_weight, include_id=False):\n",
        "    \"\"\"\n",
        "    Generates the binary Hamiltonian for the knapsack problem.\n",
        "\n",
        "    Arguments:\n",
        "    l_val -- lambda penalty parameter\n",
        "    values -- item values\n",
        "    weights -- item weights\n",
        "    max_weight -- total weight capacity\n",
        "    include_id -- identity as symbol (True) or value 1 (False)\n",
        "\n",
        "    Returns:\n",
        "    H_total -- The binary Hamiltonian\n",
        "    \"\"\"\n",
        "    # Number of primary variables\n",
        "    N_qb = len(weights)\n",
        "\n",
        "    # Symbols\n",
        "    symbol_list = list(sp.symbols('x_:{}'.format(str(N_qb))))\n",
        "    Ident = sp.symbols(r'\\mathbb{I}') if include_id else 1.\n",
        "\n",
        "    # E = sum(i) v(i) x(i)\n",
        "    H_prob = sum(values[ii] * symbol_list[ii] for ii in range(N_qb))\n",
        "\n",
        "    # Calculate scaling factor\n",
        "    max_weight_bin_str = bin(max_weight).lstrip('0b')  # Step 1\n",
        "    max_val = 2**len(max_weight_bin_str) - 1  # Step 2\n",
        "    scaling_factor = max_val / max_weight  # Step 3\n",
        "\n",
        "    # Apply scaling to weights\n",
        "    scaled_weights = [weight * scaling_factor for weight in weights]\n",
        "\n",
        "    # W0 = sum(i) w(i) x(i)\n",
        "    H_constraints = sum(scaled_weights[ii] * symbol_list[ii] for ii in range(N_qb))\n",
        "\n",
        "    # Bitstring representation converted to list\n",
        "    bin_weight = list(bin(max_weight).lstrip('0b'))[::-1]\n",
        "\n",
        "    # Auxiliary symbol indices start after the primary variables\n",
        "    aux_symbols = sp.symbols('x_{}:{}'.format(str(N_qb), str(N_qb + len(bin_weight))))\n",
        "\n",
        "    # A = sum(i) 2^i y(i)\n",
        "    H_constraints_aux = sum(aux_symbols[ii] * 2**ii for ii in range(len(bin_weight)))\n",
        "\n",
        "    # Full Hamiltonian\n",
        "    H_total = -H_prob + l_val * (max_weight - H_constraints - H_constraints_aux)**2\n",
        "\n",
        "    # Construct full list of symbols in expression\n",
        "    symbol_list.extend(list(aux_symbols))\n",
        "\n",
        "    # Create a list of x_j**2\n",
        "    sq_syms = [temp_sym**2 for temp_sym in symbol_list]\n",
        "\n",
        "    # Maps x_j^{2} to x_j:\n",
        "    conv_dict = dict(zip(sq_syms, list(symbol_list)))\n",
        "\n",
        "    # Final binary Hamiltonian\n",
        "    H_total = H_total.subs(conv_dict)\n",
        "\n",
        "    return H_total, symbol_list"
      ]
    },
    {
      "cell_type": "code",
      "execution_count": null,
      "metadata": {
        "id": "K16m2kOuiBFu"
      },
      "outputs": [],
      "source": [
        "def generate_tensor_product(string):\n",
        "    \"\"\"\n",
        "    Get QuTip object given a string representing a Pauli word.\n",
        "    \"\"\"\n",
        "    # Define a mapping of characters to corresponding QuTiP operators\n",
        "    operator_map = {\n",
        "        'I': qt.qeye(2),  # Identity operator\n",
        "        'X': qt.sigmax(),  # Pauli-X operator\n",
        "        'Y': qt.sigmay(),  # Pauli-Y operator\n",
        "        'Z': qt.sigmaz()   # Pauli-Z operator\n",
        "    }\n",
        "\n",
        "    # Create a list to collect the operators\n",
        "    operators = []\n",
        "\n",
        "    # Append the corresponding operators based on the input string\n",
        "    for char in string:\n",
        "        operators.append(operator_map[char])\n",
        "\n",
        "    # Compute the tensor product of all operators in the list\n",
        "    U = qt.tensor(*operators).full()\n",
        "\n",
        "    return qt.Qobj(U)\n",
        "\n",
        "\n",
        "def qubit_op_to_ham(pterms):\n",
        "    \"\"\"\n",
        "    Get QuTip object given a set of Pauli words and correspdoing coefficients.\n",
        "    \"\"\"\n",
        "    terms = []\n",
        "    for p in pterms:\n",
        "        term = ( p[1] * generate_tensor_product(p[0]) )\n",
        "        terms.append(term)\n",
        "\n",
        "    return sum(terms)"
      ]
    },
    {
      "cell_type": "markdown",
      "metadata": {
        "id": "5BnF0Q0Pqtmh"
      },
      "source": [
        "## Analysis"
      ]
    },
    {
      "cell_type": "markdown",
      "metadata": {
        "id": "KS3yYp03rBrq"
      },
      "source": [
        "### Basics"
      ]
    },
    {
      "cell_type": "code",
      "execution_count": null,
      "metadata": {
        "id": "SNORnfCFrCsx"
      },
      "outputs": [],
      "source": [
        "def generate_triples(nfocks):\n",
        "    # Create ranges for q, n, and m\n",
        "    q_range = np.arange(2)\n",
        "    n_range = np.arange(nfocks[0])\n",
        "    m_range = np.arange(nfocks[1])\n",
        "\n",
        "    # Create a meshgrid of q, n, and m with valid indexing\n",
        "    q_grid, n_grid, m_grid = np.meshgrid(q_range, n_range, m_range, indexing='ij')\n",
        "\n",
        "    # Stack the grids to get (q, n, m) triples\n",
        "    triples = np.stack((q_grid.ravel(), n_grid.ravel(), m_grid.ravel()), axis=-1)\n",
        "\n",
        "    return triples"
      ]
    },
    {
      "cell_type": "code",
      "execution_count": null,
      "metadata": {
        "id": "SOakosiRrHwx"
      },
      "outputs": [],
      "source": [
        "def num_prob_basis(D2, nvec, nfocks):\n",
        "    \"\"\"\n",
        "    Tr ( | q, n, m X q, n, m | rho ).\n",
        "\n",
        "    Arguments:\n",
        "    D2 -- qubit-qumode-qumode density matrix\n",
        "    nvec -- Fock basis state indices\n",
        "    nfocks -- Fock cutoffs\n",
        "    \"\"\"\n",
        "    # |q, n, m >\n",
        "    state = qt.tensor(qt.basis(2, nvec[0]),\n",
        "                      qt.basis(nfocks[0], nvec[1]),\n",
        "                      qt.basis(nfocks[1], nvec[2]) )\n",
        "\n",
        "    # Trace\n",
        "    P0 = ( state.proj() * D2 ).tr()\n",
        "\n",
        "    return np.real(P0)"
      ]
    },
    {
      "cell_type": "code",
      "execution_count": null,
      "metadata": {
        "id": "ZZ-8sj6l2uxO"
      },
      "outputs": [],
      "source": [
        "def num_prob_all(D2, nfocks):\n",
        "    \"\"\"\n",
        "    Tr ( | q, n, m X q, n, m | rho ) for all (q, n, m).\n",
        "\n",
        "    Arguments:\n",
        "    D2 -- qubit-qumode-qumode density matrix\n",
        "    nfocks -- Fock cutoffs\n",
        "    \"\"\"\n",
        "    # Initialize\n",
        "    N1 = generate_triples(nfocks)\n",
        "    ntriples = N1.shape[0]\n",
        "\n",
        "    # Generate\n",
        "    P1 = []\n",
        "    for i in range(ntriples):\n",
        "        P1.append( num_prob_basis(D2, N1[i, :], nfocks) )\n",
        "\n",
        "    return np.array(P1)"
      ]
    },
    {
      "cell_type": "markdown",
      "metadata": {
        "id": "ooVvBYpWZKo5"
      },
      "source": [
        "### Qumode noise"
      ]
    },
    {
      "cell_type": "markdown",
      "metadata": {
        "id": "SSXjj-nSaF3Z"
      },
      "source": [
        "The Kraus operators for amplitude damping via photon loss are defined as\n",
        "\n",
        "$$ K_j\n",
        "= \\sqrt{\\frac{ ( 1 - e^{- \\kappa \\tau} )^j }{j!}} \\:\n",
        "e^{- \\frac{\\kappa}{2} \\tau \\hat{n}} \\hat{b}^j, \\quad\n",
        "j = 0, 1, \\cdots, L - 1\n",
        "$$\n",
        "where $\\hat{n} = \\hat{b}^\\dagger \\hat{b}$ is the number operator, $\\tau$ is time, and $\\kappa$ is the photon loss rate. Since we truncated the Kraus dimension to $L$, we have to modify $K_0$ so that the Kraus operators are still trace-preserving\n",
        "\n",
        "$$ \\tilde{K}_0\n",
        "= \\big( I\n",
        "- \\sum_{j = 0}^{L - 1} \\: K_j^\\dagger K_j \\big)^{1/2}.\n",
        "$$\n"
      ]
    },
    {
      "cell_type": "code",
      "execution_count": null,
      "metadata": {
        "id": "VcZXkdnU7hoS"
      },
      "outputs": [],
      "source": [
        "def kraus_op_ad(k0, t0, nfock, jind, threshold=1e-08):\n",
        "    \"\"\"\n",
        "    Kraus operator K(j) with threshold to avoid very small values.\n",
        "\n",
        "    Arguments:\n",
        "    - k0 -- photon loss rate\n",
        "    - t0 -- time step\n",
        "    - nfock -- Fock cutoff\n",
        "    - jind -- operator index\n",
        "    - threshold -- threshold for numerical stability\n",
        "    \"\"\"\n",
        "    # Check\n",
        "    if jind >= nfock:\n",
        "        raise ValueError(f\"Index jind={jind} is >= nfock={nfock}.\")\n",
        "\n",
        "    # Prefactor part\n",
        "    f0 = 1 - np.exp(- k0 * t0)\n",
        "\n",
        "    # Prefactor\n",
        "    if f0 < threshold:\n",
        "        f1 = 0\n",
        "    else:\n",
        "        f1 = np.sqrt((f0**jind) / factorial(jind))\n",
        "    if f1 < threshold:\n",
        "        f1 = 0\n",
        "\n",
        "    # First operator\n",
        "    exponent = - (k0 / 2) * t0 * qt.num(nfock)\n",
        "    if np.abs(exponent.norm()) < threshold:\n",
        "        # exp(A) = I + A for small exponents\n",
        "        T1 = qt.qeye(nfock) + exponent\n",
        "    else:\n",
        "        T1 = exponent.expm()\n",
        "\n",
        "    # Second operator\n",
        "    T2 = qt.destroy(nfock)**jind\n",
        "\n",
        "    return f1 * T1 * T2\n",
        "\n",
        "\n",
        "def all_kraus_ops_ad(k0, t0, nfock, threshold=1e-08):\n",
        "    \"\"\"\n",
        "    Kraus operators including the modified K(0).\n",
        "\n",
        "    Arguments:\n",
        "    - k0 -- photon loss rate\n",
        "    - t0 -- time step\n",
        "    - nfock -- Fock cutoff\n",
        "    - threshold -- threshold for numerical stability\n",
        "    \"\"\"\n",
        "    # Initialize\n",
        "    Kops = []\n",
        "\n",
        "    # Loop\n",
        "    T1 = qt.qeye(nfock)\n",
        "    for j in range(1, nfock):\n",
        "        K1 = kraus_op_ad(k0, t0, nfock, j, threshold=1e-08)\n",
        "        Kops.append(K1)\n",
        "        T1 -= ( K1.dag() * K1 )\n",
        "    ModK0 = T1.sqrtm()\n",
        "\n",
        "    return [ModK0] + Kops"
      ]
    },
    {
      "cell_type": "markdown",
      "metadata": {
        "id": "K9fywZyNBJr6"
      },
      "source": [
        "The modified density matrix for one qumode is\n",
        "\n",
        "$$ \\tilde{\\rho}_0\n",
        "= \\sum_{j = 0}^{L - 1} \\: K_j \\: \\rho_0 \\: K_j^\\dagger.\n",
        "$$\n",
        "\n",
        "Let us now adapt it for a one-qubit two-qumode density matrix\n",
        "\n",
        "$$ \\tilde{\\rho}\n",
        "= \\sum_{j = 0}^{L_0 - 1} \\sum_{k = 0}^{L_1 - 1}\n",
        "\\big( I \\otimes K_j \\otimes K_k \\big) \\: \\rho \\:\n",
        "\\big( I \\otimes K_j^\\dagger \\otimes K_k^\\dagger \\big).\n",
        "$$"
      ]
    },
    {
      "cell_type": "code",
      "execution_count": null,
      "metadata": {
        "id": "rGxgCOzBBkmj"
      },
      "outputs": [],
      "source": [
        "def density_mat_qumode_ad(D2, k0, t0, nfocks):\n",
        "    \"\"\"\n",
        "    Kraus operators including the modified K(0).\n",
        "\n",
        "    Arguments:\n",
        "    - D2 -- qubit-qumode-qumode density matrix\n",
        "    - k0 -- photon loss rate\n",
        "    - t0 -- time step\n",
        "    - nfocks -- Fock cutoffs\n",
        "    \"\"\"\n",
        "    # Initialize\n",
        "    Kops1 = all_kraus_ops_ad(k0, t0, nfocks[0])\n",
        "    Kops2 = all_kraus_ops_ad(k0, t0, nfocks[1])\n",
        "\n",
        "    # Loop\n",
        "    Dnew = 0 * D2\n",
        "    for i in range(nfocks[0]):\n",
        "        for j in range(nfocks[1]):\n",
        "            op1 = qt.tensor( qt.qeye(2), Kops1[i], Kops2[j] )\n",
        "            op2 = qt.tensor( qt.qeye(2), Kops1[i].dag(), Kops2[j].dag() )\n",
        "            Dnew += ( op1 * D2 * op2 )\n",
        "\n",
        "    return Dnew"
      ]
    },
    {
      "cell_type": "markdown",
      "metadata": {
        "id": "ftaKP4B3dvwl"
      },
      "source": [
        "## Loss function"
      ]
    },
    {
      "cell_type": "markdown",
      "metadata": {
        "id": "o6yTYgDmZRIk"
      },
      "source": [
        "We want to minimize the following cost function\n",
        "\n",
        "$$ \\min_{ \\overrightarrow{\\beta}, \\overrightarrow{\\theta}, \\overrightarrow{\\phi} } E\n",
        "= \\sum_{q, n, m} \\: C_{q, n, m} \\:\n",
        "\\text{Tr} \\big( | q, n, m \\rangle \\langle q, n, m | \\: \\tilde{\\rho} \\big),\n",
        "$$\n",
        "where $\\{ q \\}$ are qubit basis state indices, and $\\{ n, m \\}$ qumode Fock state indices.\n",
        "The coefficients $\\{ C_{q, n, m} \\}$ comes from the Hamiltonian.\n",
        "The density matrix $\\tilde{\\rho}$ comes from one ansatz block followed by noise and so on."
      ]
    },
    {
      "cell_type": "code",
      "source": [
        "def state_from_ecd(Xvec, ndepth, nfocks):\n",
        "    \"\"\"\n",
        "    Qumode state |Psi> = U ( |0> |0, 0> ).\n",
        "\n",
        "    Arguments:\n",
        "    Xvec -- ECD-rotation parameters\n",
        "    ndepth -- circuit depth\n",
        "    nfocks -- Fock cutoffs\n",
        "    \"\"\"\n",
        "    # Parameters\n",
        "    beta_mag, beta_arg, theta, phi = unpack_variables(Xvec, ndepth)\n",
        "\n",
        "    # ECD unitary\n",
        "    U = ecd_rot_ansatz(beta_mag, beta_arg, theta, phi, nfocks)\n",
        "\n",
        "    # U |0, 0, 0>\n",
        "    vac = qt.tensor( qt.basis(2, 0), qt.basis(nfocks[0], 0), qt.basis(nfocks[1], 0) )\n",
        "    psi = U * vac\n",
        "\n",
        "    return psi"
      ],
      "metadata": {
        "id": "9JrRK4zFHw5k"
      },
      "execution_count": null,
      "outputs": []
    },
    {
      "cell_type": "code",
      "execution_count": null,
      "metadata": {
        "id": "ZQ2hxCupZOAV"
      },
      "outputs": [],
      "source": [
        "def dm_from_ecd_ad(Xvec, ndepth, k0, nfocks):\n",
        "    \"\"\"\n",
        "    Density matrix.\n",
        "\n",
        "    Arguments:\n",
        "    Xvec -- ECD-rotation parameters\n",
        "    ndepth -- circuit depth\n",
        "    nfocks -- Fock cutoffs\n",
        "    \"\"\"\n",
        "    # Parameters\n",
        "    beta_mag, beta_arg, theta, phi = unpack_variables(Xvec, ndepth)\n",
        "    beta = get_cvec_np(beta_mag, beta_arg)\n",
        "\n",
        "    # ECD unitary\n",
        "    U1 = ecd_rot_op(beta[0, :], theta[0, :], phi[0, :], nfocks)\n",
        "\n",
        "    # U1 |0, 0, 0>\n",
        "    vac = qt.tensor( qt.basis(2, 0), qt.basis(nfocks[0], 0), qt.basis(nfocks[1], 0) )\n",
        "    psi = U1 * vac\n",
        "\n",
        "    # Initialize density matrix with noise\n",
        "    D2 = psi.proj()\n",
        "    t0 = 1\n",
        "    Dnew = density_mat_qumode_ad(D2, k0, t0, nfocks)\n",
        "\n",
        "    # Loop with noise\n",
        "    for i in range(1, ndepth):\n",
        "        U = ecd_rot_op(beta[i, :], theta[i, :], phi[i, :], nfocks)\n",
        "        Dnew = U * Dnew * U.dag()\n",
        "        Dnew = density_mat_qumode_ad(Dnew, k0, t0, nfocks)\n",
        "\n",
        "    return Dnew"
      ]
    },
    {
      "cell_type": "code",
      "execution_count": null,
      "metadata": {
        "id": "serYuDnw2he0"
      },
      "outputs": [],
      "source": [
        "def num_prob_all_ansatz(Xvec, ndepth, k0, nfocks):\n",
        "    # Density matrix with noise\n",
        "    D2 = dm_from_ecd_ad(Xvec, ndepth, k0, nfocks)\n",
        "\n",
        "    # Probabilities\n",
        "    P1 = num_prob_all(D2, nfocks)\n",
        "\n",
        "    return P1"
      ]
    },
    {
      "cell_type": "code",
      "execution_count": null,
      "metadata": {
        "id": "z0fYn6yq1IOX"
      },
      "outputs": [],
      "source": [
        "def energy_val(Xvec, C1, ndepth, k0, nfocks):\n",
        "    \"\"\"\n",
        "    E = Tr ( H rho ) where rho comes from\n",
        "\n",
        "    |psi> <== U ( |0> |0, 0> ) followed by noise.\n",
        "\n",
        "    Arguments:\n",
        "    Xvec -- ansatz ECD-rotation parameters\n",
        "    ndepth -- ansatz depth\n",
        "    coeffs -- Hamiltonian coefficients\n",
        "    k0 -- photon loss rate\n",
        "    nfocks -- Fock cutoffs\n",
        "    \"\"\"\n",
        "    P1 = num_prob_all_ansatz(Xvec, ndepth, k0, nfocks)\n",
        "\n",
        "    return np.sum( C1 * P1 )"
      ]
    },
    {
      "cell_type": "markdown",
      "metadata": {
        "id": "oVcN5lGhX1zu"
      },
      "source": [
        "## Optimization"
      ]
    },
    {
      "cell_type": "code",
      "execution_count": null,
      "metadata": {
        "id": "Hf1lYpTidxCL"
      },
      "outputs": [],
      "source": [
        "def ecd_opt_vqe(C1, k0, ndepth, nfocks, maxiter=100, method='COBYLA', verb=0,\n",
        "                threshold=1e-08, print_freq=10, Xvec=[]):\n",
        "    \"\"\"\n",
        "    Minimize the cost function using SciPy-based methods.\n",
        "\n",
        "    Arguments:\n",
        "    C1 -- Hamiltonian coefficients\n",
        "    ndepth -- ansatz circuit depth\n",
        "    nfocks -- Fock cutoffs\n",
        "    maxiter -- maximum number of iterations\n",
        "    method -- optimization method\n",
        "    threshold -- error tolerance\n",
        "    Xvec -- optional initial guesses\n",
        "    print_freq -- frequency of printing and storing intermediate results\n",
        "    \"\"\"\n",
        "    # Bound parameters\n",
        "    beta_mag_min = 0.0\n",
        "    beta_mag_max = 10.0\n",
        "    beta_arg_min = 0.0\n",
        "    beta_arg_max = 2 * np.pi\n",
        "    theta_min = 0.0\n",
        "    theta_max = np.pi\n",
        "    phi_min = 0.0\n",
        "    phi_max = 2 * np.pi\n",
        "\n",
        "    # Define bounds\n",
        "    size = ndepth * 2\n",
        "    beta_mag_bounds = [(beta_mag_min, beta_mag_max)] * size\n",
        "    beta_arg_bounds = [(beta_arg_min, beta_arg_max)] * size\n",
        "    theta_bounds = [(theta_min, theta_max)] * size\n",
        "    phi_bounds = [(phi_min, phi_max)] * size\n",
        "    bounds = beta_mag_bounds + beta_arg_bounds + theta_bounds + phi_bounds\n",
        "\n",
        "    # Guess\n",
        "    if len(Xvec) == 0:\n",
        "        beta_mag = np.random.uniform(0, 3, size=(ndepth, 2))\n",
        "        beta_arg = np.random.uniform(0, np.pi, size=(ndepth, 2))\n",
        "        theta = np.random.uniform(0, np.pi, size=(ndepth, 2))\n",
        "        phi = np.random.uniform(0, np.pi, size=(ndepth, 2))\n",
        "        Xvec = pack_variables(beta_mag, beta_arg, theta, phi)\n",
        "\n",
        "    # Loss function\n",
        "    obj_fun = partial(energy_val, C1=C1, ndepth=ndepth, k0=k0, nfocks=nfocks)\n",
        "\n",
        "    # Intermediate values\n",
        "    iteration_step = 0\n",
        "    intermediate_results = []\n",
        "\n",
        "    def callback(xk):\n",
        "        nonlocal iteration_step\n",
        "        iteration_step += 1\n",
        "        loss_value = obj_fun(xk)\n",
        "        if verb == 1 and (iteration_step % print_freq == 0):\n",
        "            print(\"-------------------\")\n",
        "            print(f\"iter: {iteration_step}\")\n",
        "            print(f\"fval: {loss_value}\")\n",
        "\n",
        "        # Store intermediate results\n",
        "        if iteration_step % print_freq == 0:\n",
        "            intermediate_results.append((loss_value, xk.copy()))\n",
        "\n",
        "    # SciPy options\n",
        "    options = {'disp': True, 'maxiter': maxiter}\n",
        "\n",
        "    # Optimize\n",
        "    result = sciopt.minimize(obj_fun, Xvec, method=method, bounds=bounds,\n",
        "                             tol=threshold, options=options, callback=callback)\n",
        "\n",
        "    return result.fun, result.x, intermediate_results"
      ]
    },
    {
      "cell_type": "markdown",
      "metadata": {
        "id": "MrQISVFu8JWE"
      },
      "source": [
        "## Explore"
      ]
    },
    {
      "cell_type": "markdown",
      "metadata": {
        "id": "8a5APKhvj8Vi"
      },
      "source": [
        "Let us discuss the binary knapsack problem of $N$ items\n",
        "\n",
        "\\begin{align*}\n",
        "\\max_{\\mathbf{x}} E\n",
        "&= \\sum_{j = 1}^N v_j \\: x_j,\n",
        "\\\\\n",
        "\\text{subject to} \\quad W_0 (\\mathbf{x})\n",
        "&= \\sum_{j = 1}^N w_j \\: x_j \\leq W,\n",
        "\\end{align*}\n",
        "where $\\{ v_j \\}$ are values, $\\{ w_j \\}$ are weights, and $W$ is the total weight capacity.\n",
        "The cost function optimization becomes\n",
        "\n",
        "$$ \\min_{\\mathbf{x}, \\mathbf{y}} F\n",
        "= - E (\\mathbf{x})\n",
        "+ \\lambda \\: \\Big[ W - W_0 (\\mathbf{x})\n",
        "- \\sum_{j = 1}^M \\: 2^{j - 1} \\: y_j \\Big]^2,\n",
        "$$\n",
        "where the sum of $M = \\lceil \\log_2 (W + 1) \\rceil$ terms represent the auxiliary variables with $\\lambda$ being the quadratic penalty coefficient."
      ]
    },
    {
      "cell_type": "code",
      "execution_count": null,
      "metadata": {
        "colab": {
          "base_uri": "https://localhost:8080/",
          "height": 39
        },
        "id": "LEEu-m5SiPoS",
        "outputId": "5e7b9ffc-e6e5-4eed-9a83-900ac1272492"
      },
      "outputs": [
        {
          "output_type": "execute_result",
          "data": {
            "text/plain": [
              "-2*x_0 - 5*x_1 - 7*x_2 - 3*x_3 + 2*(-2.5*x_0 - 3.0*x_1 - 4.0*x_2 - 3.5*x_3 - x_4 - 2*x_5 - 4*x_6 + 7)**2"
            ],
            "text/latex": "$\\displaystyle - 2 x_{0} - 5 x_{1} - 7 x_{2} - 3 x_{3} + 2 \\left(- 2.5 x_{0} - 3.0 x_{1} - 4.0 x_{2} - 3.5 x_{3} - x_{4} - 2 x_{5} - 4 x_{6} + 7\\right)^{2}$"
          },
          "metadata": {},
          "execution_count": 28
        }
      ],
      "source": [
        "values = [2, 5, 7, 3]\n",
        "weights = [2.5, 3, 4, 3.5]\n",
        "max_weight = 7\n",
        "l_val = 2\n",
        "\n",
        "bkp_fun, bkp_list = binary_knapsack_ham(l_val, values, weights, max_weight)\n",
        "bkp_fun"
      ]
    },
    {
      "cell_type": "markdown",
      "metadata": {
        "id": "GQwdq1JYnzDN"
      },
      "source": [
        "Qubit Hamiltonian."
      ]
    },
    {
      "cell_type": "code",
      "execution_count": null,
      "metadata": {
        "colab": {
          "base_uri": "https://localhost:8080/"
        },
        "id": "DUQ9hGzD4CY8",
        "outputId": "00b75c9e-e7a7-4905-d77e-cf7a73c864b9"
      },
      "outputs": [
        {
          "output_type": "execute_result",
          "data": {
            "text/plain": [
              "[['ZZIIIII', 7.5],\n",
              " ['ZIZIIII', 10.0],\n",
              " ['ZIIZIII', 8.75],\n",
              " ['ZIIIZII', 2.5],\n",
              " ['ZIIIIZI', 5.0],\n",
              " ['ZIIIIIZ', 10.0],\n",
              " ['ZIIIIII', -14.0],\n",
              " ['IZZIIII', 12.0],\n",
              " ['IZIZIII', 10.5],\n",
              " ['IZIIZII', 3.0],\n",
              " ['IZIIIZI', 6.0],\n",
              " ['IZIIIIZ', 12.0],\n",
              " ['IZIIIII', -15.5],\n",
              " ['IIZZIII', 14.0],\n",
              " ['IIZIZII', 4.0],\n",
              " ['IIZIIZI', 8.0],\n",
              " ['IIZIIIZ', 16.0],\n",
              " ['IIZIIII', -20.5],\n",
              " ['IIIZZII', 3.5],\n",
              " ['IIIZIZI', 7.0],\n",
              " ['IIIZIIZ', 14.0],\n",
              " ['IIIZIII', -19.5],\n",
              " ['IIIIZZI', 2.0],\n",
              " ['IIIIZIZ', 4.0],\n",
              " ['IIIIZII', -6.0],\n",
              " ['IIIIIZZ', 8.0],\n",
              " ['IIIIIZI', -12.0],\n",
              " ['IIIIIIZ', -24.0],\n",
              " ['IIIIIII', 41.75]]"
            ]
          },
          "metadata": {},
          "execution_count": 29
        }
      ],
      "source": [
        "bkp_list = binary_to_pauli_list(bkp_fun, bkp_list)\n",
        "bkp_list"
      ]
    },
    {
      "cell_type": "code",
      "execution_count": null,
      "metadata": {
        "id": "jqXNbFk9n0Ws"
      },
      "outputs": [],
      "source": [
        "H = qt.Qobj( qubit_op_to_ham(bkp_list).full() )\n",
        "evals, evecs = H.eigenstates()"
      ]
    },
    {
      "cell_type": "code",
      "execution_count": null,
      "metadata": {
        "colab": {
          "base_uri": "https://localhost:8080/"
        },
        "id": "NNHYlehHoAaw",
        "outputId": "59405cfb-8b97-4a3f-f8f0-5e871bd18633"
      },
      "outputs": [
        {
          "output_type": "execute_result",
          "data": {
            "text/plain": [
              "array([-12. , -10. ,  -9.5,  -8.5,  -8.5,  -7.5,  -7.5,  -7. ,  -6.5,\n",
              "        -6.5])"
            ]
          },
          "metadata": {},
          "execution_count": 31
        }
      ],
      "source": [
        "evals[:10]"
      ]
    },
    {
      "cell_type": "code",
      "execution_count": null,
      "metadata": {
        "colab": {
          "base_uri": "https://localhost:8080/"
        },
        "id": "MU0CelqNoC6u",
        "outputId": "65c51988-9339-484b-c580-d48cc6edee4a"
      },
      "outputs": [
        {
          "output_type": "stream",
          "name": "stdout",
          "text": [
            "State 0:  0110000\n",
            "State 1:  0110100\n",
            "State 2:  0011000\n",
            "State 3:  1010000\n",
            "State 4:  1010100\n",
            "State 5:  0101000\n",
            "State 6:  0101100\n",
            "State 7:  0010110\n",
            "State 8:  1100010\n",
            "State 9:  1100100\n"
          ]
        }
      ],
      "source": [
        "for i in range(10):\n",
        "    print(f\"State {i}: \", find_basis_state(evecs[i]))"
      ]
    },
    {
      "cell_type": "markdown",
      "metadata": {
        "id": "ATkONBusUvSs"
      },
      "source": [
        "Fock Hamiltonian."
      ]
    },
    {
      "cell_type": "code",
      "execution_count": null,
      "metadata": {
        "colab": {
          "base_uri": "https://localhost:8080/"
        },
        "id": "Bej53ut3Uw33",
        "outputId": "17642980-b447-4eec-c80b-b301a81fb4a7"
      },
      "outputs": [
        {
          "output_type": "execute_result",
          "data": {
            "text/plain": [
              "[['P0, P0, P0', 98.0],\n",
              " ['P0, P0, P1', 18.0],\n",
              " ['P0, P0, P2', 50.0],\n",
              " ['P0, P0, P3', 2.0],\n",
              " ['P0, P0, P4', 72.0],\n",
              " ['P0, P0, P5', 8.0],\n",
              " ['P0, P0, P6', 32.0],\n",
              " ['P0, P0, P7', 0.0],\n",
              " ['P0, P1, P0', 21.5],\n",
              " ['P0, P1, P1', -2.5],\n",
              " ['P0, P1, P2', 1.5],\n",
              " ['P0, P1, P3', 9.5],\n",
              " ['P0, P1, P4', 9.5],\n",
              " ['P0, P1, P5', 1.5],\n",
              " ['P0, P1, P6', -2.5],\n",
              " ['P0, P1, P7', 21.5],\n",
              " ['P0, P2, P0', 11.0],\n",
              " ['P0, P2, P1', -5.0],\n",
              " ['P0, P2, P2', -5.0],\n",
              " ['P0, P2, P3', 11.0],\n",
              " ['P0, P2, P4', 1.0],\n",
              " ['P0, P2, P5', 1.0],\n",
              " ['P0, P2, P6', -7.0],\n",
              " ['P0, P2, P7', 25.0],\n",
              " ['P0, P3, P0', -9.5],\n",
              " ['P0, P3, P1', 30.5],\n",
              " ['P0, P3, P2', 2.5],\n",
              " ['P0, P3, P3', 74.5],\n",
              " ['P0, P3, P4', -5.5],\n",
              " ['P0, P3, P5', 50.5],\n",
              " ['P0, P3, P6', 14.5],\n",
              " ['P0, P3, P7', 102.5],\n",
              " ['P0, P4, P0', 27.0],\n",
              " ['P0, P4, P1', -5.0],\n",
              " ['P0, P4, P2', 3.0],\n",
              " ['P0, P4, P3', 3.0],\n",
              " ['P0, P4, P4', 13.0],\n",
              " ['P0, P4, P5', -3.0],\n",
              " ['P0, P4, P6', -3.0],\n",
              " ['P0, P4, P7', 13.0],\n",
              " ['P0, P5, P0', -7.5],\n",
              " ['P0, P5, P1', 16.5],\n",
              " ['P0, P5, P2', -3.5],\n",
              " ['P0, P5, P3', 52.5],\n",
              " ['P0, P5, P4', -7.5],\n",
              " ['P0, P5, P5', 32.5],\n",
              " ['P0, P5, P6', 4.5],\n",
              " ['P0, P5, P7', 76.5],\n",
              " ['P0, P6, P0', -12.0],\n",
              " ['P0, P6, P1', 20.0],\n",
              " ['P0, P6, P2', -4.0],\n",
              " ['P0, P6, P3', 60.0],\n",
              " ['P0, P6, P4', -10.0],\n",
              " ['P0, P6, P5', 38.0],\n",
              " ['P0, P6, P6', 6.0],\n",
              " ['P0, P6, P7', 86.0],\n",
              " ['P0, P7, P0', 9.5],\n",
              " ['P0, P7, P1', 97.5],\n",
              " ['P0, P7, P2', 45.5],\n",
              " ['P0, P7, P3', 165.5],\n",
              " ['P0, P7, P4', 25.5],\n",
              " ['P0, P7, P5', 129.5],\n",
              " ['P0, P7, P6', 69.5],\n",
              " ['P0, P7, P7', 205.5],\n",
              " ['P1, P0, P0', 38.5],\n",
              " ['P1, P0, P1', -1.5],\n",
              " ['P1, P0, P2', 10.5],\n",
              " ['P1, P0, P3', 2.5],\n",
              " ['P1, P0, P4', 22.5],\n",
              " ['P1, P0, P5', -1.5],\n",
              " ['P1, P0, P6', 2.5],\n",
              " ['P1, P0, P7', 10.5],\n",
              " ['P1, P1, P0', -3.0],\n",
              " ['P1, P1, P1', 13.0],\n",
              " ['P1, P1, P2', -3.0],\n",
              " ['P1, P1, P3', 45.0],\n",
              " ['P1, P1, P4', -5.0],\n",
              " ['P1, P1, P5', 27.0],\n",
              " ['P1, P1, P6', 3.0],\n",
              " ['P1, P1, P7', 67.0],\n",
              " ['P1, P2, P0', -8.5],\n",
              " ['P1, P2, P1', 15.5],\n",
              " ['P1, P2, P2', -4.5],\n",
              " ['P1, P2, P3', 51.5],\n",
              " ['P1, P2, P4', -8.5],\n",
              " ['P1, P2, P5', 31.5],\n",
              " ['P1, P2, P6', 3.5],\n",
              " ['P1, P2, P7', 75.5],\n",
              " ['P1, P3, P0', 6.0],\n",
              " ['P1, P3, P1', 86.0],\n",
              " ['P1, P3, P2', 38.0],\n",
              " ['P1, P3, P3', 150.0],\n",
              " ['P1, P3, P4', 20.0],\n",
              " ['P1, P3, P5', 116.0],\n",
              " ['P1, P3, P6', 60.0],\n",
              " ['P1, P3, P7', 188.0],\n",
              " ['P1, P4, P0', -2.5],\n",
              " ['P1, P4, P1', 5.5],\n",
              " ['P1, P4, P2', -6.5],\n",
              " ['P1, P4, P3', 33.5],\n",
              " ['P1, P4, P4', -6.5],\n",
              " ['P1, P4, P5', 17.5],\n",
              " ['P1, P4, P6', -2.5],\n",
              " ['P1, P4, P7', 53.5],\n",
              " ['P1, P5, P0', -2.0],\n",
              " ['P1, P5, P1', 62.0],\n",
              " ['P1, P5, P2', 22.0],\n",
              " ['P1, P5, P3', 118.0],\n",
              " ['P1, P5, P4', 8.0],\n",
              " ['P1, P5, P5', 88.0],\n",
              " ['P1, P5, P6', 40.0],\n",
              " ['P1, P5, P7', 152.0],\n",
              " ['P1, P6, P0', -1.5],\n",
              " ['P1, P6, P1', 70.5],\n",
              " ['P1, P6, P2', 26.5],\n",
              " ['P1, P6, P3', 130.5],\n",
              " ['P1, P6, P4', 10.5],\n",
              " ['P1, P6, P5', 98.5],\n",
              " ['P1, P6, P6', 46.5],\n",
              " ['P1, P6, P7', 166.5],\n",
              " ['P1, P7, P0', 55.0],\n",
              " ['P1, P7, P1', 183.0],\n",
              " ['P1, P7, P2', 111.0],\n",
              " ['P1, P7, P3', 271.0],\n",
              " ['P1, P7, P4', 81.0],\n",
              " ['P1, P7, P5', 225.0],\n",
              " ['P1, P7, P6', 145.0],\n",
              " ['P1, P7, P7', 321.0]]"
            ]
          },
          "metadata": {},
          "execution_count": 33
        }
      ],
      "source": [
        "bkp_part = [1, 3, 3,] # Qubit partition\n",
        "\n",
        "Hmod = pauli_list_to_qudit_terms(bkp_list, bkp_part)\n",
        "Hmod"
      ]
    },
    {
      "cell_type": "code",
      "execution_count": null,
      "metadata": {
        "colab": {
          "base_uri": "https://localhost:8080/"
        },
        "id": "iRf5JfV6Vk0d",
        "outputId": "eff0697c-1e9e-4c1c-826c-8abac1636502"
      },
      "outputs": [
        {
          "output_type": "execute_result",
          "data": {
            "text/plain": [
              "array([ 98. ,  18. ,  50. ,   2. ,  72. ,   8. ,  32. ,   0. ,  21.5,\n",
              "        -2.5,   1.5,   9.5,   9.5,   1.5,  -2.5,  21.5,  11. ,  -5. ,\n",
              "        -5. ,  11. ,   1. ,   1. ,  -7. ,  25. ,  -9.5,  30.5,   2.5,\n",
              "        74.5,  -5.5,  50.5,  14.5, 102.5,  27. ,  -5. ,   3. ,   3. ,\n",
              "        13. ,  -3. ,  -3. ,  13. ,  -7.5,  16.5,  -3.5,  52.5,  -7.5,\n",
              "        32.5,   4.5,  76.5, -12. ,  20. ,  -4. ,  60. , -10. ,  38. ,\n",
              "         6. ,  86. ,   9.5,  97.5,  45.5, 165.5,  25.5, 129.5,  69.5,\n",
              "       205.5,  38.5,  -1.5,  10.5,   2.5,  22.5,  -1.5,   2.5,  10.5,\n",
              "        -3. ,  13. ,  -3. ,  45. ,  -5. ,  27. ,   3. ,  67. ,  -8.5,\n",
              "        15.5,  -4.5,  51.5,  -8.5,  31.5,   3.5,  75.5,   6. ,  86. ,\n",
              "        38. , 150. ,  20. , 116. ,  60. , 188. ,  -2.5,   5.5,  -6.5,\n",
              "        33.5,  -6.5,  17.5,  -2.5,  53.5,  -2. ,  62. ,  22. , 118. ,\n",
              "         8. ,  88. ,  40. , 152. ,  -1.5,  70.5,  26.5, 130.5,  10.5,\n",
              "        98.5,  46.5, 166.5,  55. , 183. , 111. , 271. ,  81. , 225. ,\n",
              "       145. , 321. ])"
            ]
          },
          "metadata": {},
          "execution_count": 34
        }
      ],
      "source": [
        "C1 = np.array( [item[1] for item in Hmod] )\n",
        "C1"
      ]
    },
    {
      "cell_type": "code",
      "execution_count": null,
      "metadata": {
        "colab": {
          "base_uri": "https://localhost:8080/"
        },
        "id": "RCa6FgV97vA9",
        "outputId": "8e9c8fe0-221a-4494-f278-e112fff20ad6"
      },
      "outputs": [
        {
          "output_type": "execute_result",
          "data": {
            "text/plain": [
              "7.105427357601002e-15"
            ]
          },
          "metadata": {},
          "execution_count": 35
        }
      ],
      "source": [
        "test_nfocks = [8, 8]\n",
        "test_nd = 4\n",
        "test_k0 = 0\n",
        "\n",
        "beta_mag = np.random.uniform(0, 3, size=(test_nd, 2))\n",
        "beta_arg = np.random.uniform(0, np.pi, size=(test_nd, 2))\n",
        "theta = np.random.uniform(0, np.pi, size=(test_nd, 2))\n",
        "phi = np.random.uniform(0, np.pi, size=(test_nd, 2))\n",
        "test_Xvec = pack_variables(beta_mag, beta_arg, theta, phi)\n",
        "\n",
        "test_psi = state_from_ecd(test_Xvec, test_nd, test_nfocks)\n",
        "\n",
        "test_en1 = energy_val(test_Xvec, C1, test_nd, test_k0, test_nfocks)\n",
        "test_en2 = qt.expect( qt.Qobj( H.full() ), qt.Qobj( test_psi.full() ) )\n",
        "\n",
        "test_en1 - test_en2"
      ]
    },
    {
      "cell_type": "markdown",
      "metadata": {
        "id": "9SUy-Um9na6u"
      },
      "source": [
        "Optimization."
      ]
    },
    {
      "cell_type": "code",
      "execution_count": null,
      "metadata": {
        "id": "jpjUiZ__Yg4-"
      },
      "outputs": [],
      "source": [
        "nfocks = [8, 8]\n",
        "ndepth = 5\n",
        "k0 = 1e-4"
      ]
    },
    {
      "cell_type": "code",
      "execution_count": null,
      "metadata": {
        "colab": {
          "base_uri": "https://localhost:8080/"
        },
        "id": "H9VexBmXnjmj",
        "outputId": "4afabb35-00ca-454b-a111-918cc40763ac"
      },
      "outputs": [
        {
          "output_type": "stream",
          "name": "stderr",
          "text": [
            "<ipython-input-26-39a3981f0033>:66: RuntimeWarning: Method BFGS cannot handle bounds.\n",
            "  result = sciopt.minimize(obj_fun, Xvec, method=method, bounds=bounds,\n"
          ]
        },
        {
          "output_type": "stream",
          "name": "stdout",
          "text": [
            "-------------------\n",
            "iter: 10\n",
            "fval: -2.1109546937023285\n",
            "-------------------\n",
            "iter: 20\n",
            "fval: -8.045380279881163\n",
            "-------------------\n",
            "iter: 30\n",
            "fval: -9.287159415242357\n",
            "-------------------\n",
            "iter: 40\n",
            "fval: -9.336567568697065\n",
            "-------------------\n",
            "iter: 50\n",
            "fval: -9.451263067347877\n",
            "-------------------\n",
            "iter: 60\n",
            "fval: -10.064399472690074\n",
            "-------------------\n",
            "iter: 70\n",
            "fval: -10.659823631230989\n",
            "-------------------\n",
            "iter: 80\n",
            "fval: -11.209922247268599\n",
            "-------------------\n",
            "iter: 90\n",
            "fval: -11.371924915021845\n",
            "-------------------\n",
            "iter: 100\n",
            "fval: -11.53774134375395\n",
            "         Current function value: -11.537741\n",
            "         Iterations: 100\n",
            "         Function evaluations: 4674\n",
            "         Gradient evaluations: 114\n"
          ]
        },
        {
          "output_type": "stream",
          "name": "stderr",
          "text": [
            "/usr/local/lib/python3.10/dist-packages/scipy/optimize/_minimize.py:708: OptimizeWarning: Maximum number of iterations has been exceeded.\n",
            "  res = _minimize_bfgs(fun, x0, args, jac, callback, **options)\n"
          ]
        },
        {
          "output_type": "execute_result",
          "data": {
            "text/plain": [
              "-11.53774134375395"
            ]
          },
          "metadata": {},
          "execution_count": 49
        }
      ],
      "source": [
        "en, Xvec, int_results = ecd_opt_vqe(C1, k0, ndepth, nfocks, maxiter=100, method='BFGS',\n",
        "                                    verb=1, threshold=1e-12)\n",
        "en"
      ]
    },
    {
      "cell_type": "code",
      "execution_count": null,
      "metadata": {
        "colab": {
          "base_uri": "https://localhost:8080/"
        },
        "id": "BymbUlih-RK5",
        "outputId": "6ebac65a-36f6-48d6-89c7-429760b36356"
      },
      "outputs": [
        {
          "output_type": "execute_result",
          "data": {
            "text/plain": [
              "[(-2.1109546937023285,\n",
              "  array([ 3.11081951,  1.33163246,  0.09096073,  1.7840021 ,  0.01099849,\n",
              "          2.9287076 ,  1.90715326,  0.75851505,  1.4471468 , -1.22190626,\n",
              "         -0.59359603,  1.95470152,  1.27383888,  1.49025611,  2.574067  ,\n",
              "          1.54607954,  2.99428915, -0.09931778,  0.71765459, -0.16182771,\n",
              "         -0.51107165,  2.81775124,  1.02726024,  1.24031004,  0.20509907,\n",
              "          3.06383204,  3.43573751,  2.14274003, -0.10194629, -0.21061678,\n",
              "          1.52489613,  0.76993327,  2.21625062,  1.05577063,  3.113705  ,\n",
              "          2.60907076,  2.47251702,  0.84286523,  2.55291979,  2.54592032])),\n",
              " (-8.045380279881163,\n",
              "  array([ 3.37525767,  0.34466885, -0.11686343,  2.20693773,  0.23497222,\n",
              "          2.59188959,  2.21452523,  0.53955966,  0.63656601, -0.91381393,\n",
              "         -0.65227783,  2.17364271,  1.28463103,  1.5191612 ,  2.10508241,\n",
              "          1.46111871,  3.22528983, -0.34828374,  1.00351947, -0.07575383,\n",
              "         -0.03717057,  3.22598788,  0.86766212,  0.83784268,  0.06776078,\n",
              "          3.16202275,  3.01606102,  3.05315298, -0.05240493,  0.03408026,\n",
              "          1.47823634,  0.71617189,  1.96778693,  0.90977586,  3.38706763,\n",
              "          2.76237881,  2.70016872,  0.72516935,  2.26051383,  2.62354989])),\n",
              " (-9.287159415242357,\n",
              "  array([ 2.74158846,  0.18224584,  0.0698267 ,  1.66644381,  0.5547514 ,\n",
              "          1.97103699,  2.83366688,  0.33591688,  0.66754588, -0.43334005,\n",
              "         -0.58245272,  2.26236796,  0.9121563 ,  1.83408713,  1.99255108,\n",
              "          1.73858184,  3.14420588, -0.88973883,  1.49974295, -0.21544264,\n",
              "         -0.0110976 ,  3.08814065,  0.70868796,  0.7844484 ,  0.01744245,\n",
              "          3.13863231,  3.23329367,  3.17310064,  0.00941703, -0.01478059,\n",
              "          1.0545753 ,  0.26822633,  2.40525438,  0.79398695,  3.31449363,\n",
              "          3.26381402,  2.8278515 ,  0.62600285,  2.23608304,  2.82949707])),\n",
              " (-9.336567568697065,\n",
              "  array([ 2.66629075, -0.01516647,  0.15690115,  1.61874818,  0.64443253,\n",
              "          1.73287683,  2.74291891,  0.2941034 ,  0.67512409, -0.30132735,\n",
              "         -0.73199532,  2.27820464,  0.95799959,  1.86460926,  2.29453172,\n",
              "          1.77051157,  3.0129288 , -0.93006099,  1.43262739, -0.25347115,\n",
              "         -0.10830849,  3.1472564 ,  0.71638664,  0.78538819,  0.00418879,\n",
              "          3.14833883,  3.23657622,  3.13755352,  0.01112958, -0.01545448,\n",
              "          0.96977319,  0.05833985,  2.50064953,  0.98684839,  3.26960687,\n",
              "          3.29612587,  2.98309204,  0.7387285 ,  2.20547737,  2.79180519])),\n",
              " (-9.451263067347877,\n",
              "  array([ 2.69728526e+00, -2.72690924e-01,  6.31177299e-01,  9.50910973e-01,\n",
              "          4.54730758e-01,  9.03132436e-01,  2.79795376e+00,  1.89563686e-01,\n",
              "          7.44027723e-01,  1.12916369e-01, -7.87996022e-01,  2.34791550e+00,\n",
              "          1.19032773e+00,  1.77028834e+00,  2.42849694e+00,  1.79331853e+00,\n",
              "          2.86985775e+00, -9.26487442e-01,  1.26522218e+00, -2.55315209e-01,\n",
              "         -7.40859609e-02,  3.34169408e+00,  1.25257326e+00,  1.37095613e+00,\n",
              "         -5.24844392e-02,  3.19458705e+00,  4.10287299e+00,  3.20189520e+00,\n",
              "          7.59049055e-02,  1.22123838e-03,  1.15860634e+00,  1.39087355e-01,\n",
              "          2.55239815e+00,  1.51383359e+00,  3.34275095e+00,  3.05734295e+00,\n",
              "          3.46275162e+00,  6.28734065e-01,  1.84791723e+00,  2.96861128e+00])),\n",
              " (-10.064399472690074,\n",
              "  array([ 3.09405781e+00, -9.76058681e-02,  1.19716712e+00,  1.65453501e-01,\n",
              "          6.56861959e-01,  1.96684591e-01,  2.84716222e+00, -7.25419276e-03,\n",
              "          8.22071885e-01,  9.89960469e-02, -7.16293566e-01,  2.54652495e+00,\n",
              "          1.21218619e+00,  2.14302309e+00,  2.49319269e+00,  2.07943908e+00,\n",
              "          2.72857389e+00, -1.53433376e+00,  1.24805611e+00, -5.04983733e-01,\n",
              "         -2.06536811e-01,  3.48392221e+00,  1.64183768e+00,  1.78575503e+00,\n",
              "          3.76314988e-02,  3.13403165e+00,  4.93102983e+00,  3.19232632e+00,\n",
              "          1.35896320e-02,  3.89110814e-03,  1.28825383e+00,  4.77398432e-01,\n",
              "          2.70645259e+00,  1.88103992e+00,  3.75030001e+00,  2.91150039e+00,\n",
              "          3.74225942e+00,  8.24858736e-02,  1.25029672e+00,  3.32829167e+00])),\n",
              " (-10.659823631230989,\n",
              "  array([ 3.28965122,  0.09794846,  1.45782341,  0.06060783,  0.7961792 ,\n",
              "          0.0399053 ,  2.48922926,  0.03093206,  0.91308445, -0.09310927,\n",
              "         -0.5179354 ,  2.57587182,  1.26916675,  2.05475943,  2.35990166,\n",
              "          2.07753502,  2.77050871, -1.29161774,  1.0840846 , -0.68685543,\n",
              "         -0.05823548,  3.46124238,  1.72372022,  1.84985135, -0.0183809 ,\n",
              "          3.1901692 ,  4.91055801,  2.9445315 ,  0.03049428,  0.26540326,\n",
              "          0.03861755,  0.3911871 ,  3.78697403,  1.6246438 ,  3.53030347,\n",
              "          2.99549699,  3.95740181, -0.01995206,  0.81917995,  3.08420696])),\n",
              " (-11.209922247268599,\n",
              "  array([ 3.5242436 , -0.01858905,  1.78287549, -0.15897691,  1.00939201,\n",
              "         -0.12434468,  2.37543781, -0.00874239,  1.08695412,  0.02120142,\n",
              "         -0.37214988,  2.54918784,  1.46515246,  2.07829121,  2.08474857,\n",
              "          2.14413519,  2.74556874, -1.39000263,  1.04222997, -0.65197309,\n",
              "         -0.08773217,  3.48680542,  1.90930481,  1.99085895, -0.03331473,\n",
              "          3.23380948,  4.71560915,  2.8520053 ,  0.06404734,  0.2548447 ,\n",
              "         -1.84303724,  0.21314895,  5.12261658,  1.09549199,  3.88306791,\n",
              "          2.91944308,  4.60912845,  0.05142898,  0.02396331,  3.45927176])),\n",
              " (-11.371924915021845,\n",
              "  array([ 3.07475215e+00, -4.19624672e-04,  1.94371033e+00,  7.04551420e-02,\n",
              "          9.04887632e-01,  6.63386737e-02,  2.44221951e+00,  1.30804610e-03,\n",
              "          1.22013009e+00,  8.74947553e-04, -3.00297167e-01,  2.58817113e+00,\n",
              "          1.41360718e+00,  1.90382059e+00,  2.09588479e+00,  2.02841924e+00,\n",
              "          2.71832777e+00, -1.20948700e+00,  1.03783606e+00, -5.81287843e-01,\n",
              "         -4.19510258e-02,  3.46268727e+00,  2.27675463e+00,  2.27886823e+00,\n",
              "         -2.80383933e-01,  3.34304249e+00,  4.01734409e+00,  2.92802750e+00,\n",
              "          1.42267267e-01,  5.13678066e-02, -3.30697487e+00, -1.97858014e-01,\n",
              "          6.26367143e+00,  9.03898050e-01,  3.80660970e+00,  2.91790183e+00,\n",
              "          4.56429473e+00,  2.39409098e-02,  4.23015082e-01,  4.04572244e+00])),\n",
              " (-11.53774134375395,\n",
              "  array([ 2.93482417,  0.01210832,  1.9383692 ,  0.03090337,  0.66782864,\n",
              "          0.06628668,  2.37991119,  0.03903044,  1.36952782, -0.01163429,\n",
              "         -0.20592749,  2.59777303,  1.34289345,  1.67340904,  2.13692114,\n",
              "          1.90788297,  2.68026304, -0.95729827,  1.01094588, -0.49210436,\n",
              "         -0.02615923,  3.4422222 ,  2.70172801,  2.68539925, -0.2656897 ,\n",
              "          3.26118019,  3.38531302,  2.98233076,  0.17045117,  0.01216026,\n",
              "         -4.50318825, -0.54150349,  6.95165051,  0.67337609,  3.21418168,\n",
              "          2.73942404,  4.5741061 , -0.15898849,  0.29287838,  3.76025659]))]"
            ]
          },
          "metadata": {},
          "execution_count": 50
        }
      ],
      "source": [
        "int_results"
      ]
    }
  ],
  "metadata": {
    "accelerator": "GPU",
    "colab": {
      "collapsed_sections": [
        "AIZZvMz22Vn1",
        "2AqDuXYWj11q",
        "HtqShu-vixG1"
      ],
      "gpuType": "A100",
      "machine_shape": "hm",
      "provenance": [],
      "toc_visible": true
    },
    "kernelspec": {
      "display_name": "Python 3",
      "name": "python3"
    },
    "language_info": {
      "codemirror_mode": {
        "name": "ipython",
        "version": 3
      },
      "file_extension": ".py",
      "mimetype": "text/x-python",
      "name": "python",
      "nbconvert_exporter": "python",
      "pygments_lexer": "ipython3",
      "version": "3.10.2"
    },
    "toc": {
      "base_numbering": 1,
      "nav_menu": {},
      "number_sections": true,
      "sideBar": true,
      "skip_h1_title": false,
      "title_cell": "Table of Contents",
      "title_sidebar": "Contents",
      "toc_cell": true,
      "toc_position": {},
      "toc_section_display": true,
      "toc_window_display": false
    }
  },
  "nbformat": 4,
  "nbformat_minor": 0
}