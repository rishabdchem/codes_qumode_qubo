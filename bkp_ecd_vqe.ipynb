{
  "cells": [
    {
      "cell_type": "markdown",
      "source": [
        "# Binary knapsack optimization on a qumode"
      ],
      "metadata": {
        "id": "7XhuNJChtOMC"
      }
    },
    {
      "cell_type": "markdown",
      "source": [
        "## Prerequisite"
      ],
      "metadata": {
        "id": "AIZZvMz22Vn1"
      }
    },
    {
      "cell_type": "markdown",
      "source": [
        "Cell for Google Colab users."
      ],
      "metadata": {
        "id": "oyv7sT_sRXV6"
      }
    },
    {
      "cell_type": "code",
      "source": [
        "!pip install git+https://github.com/sympy/sympy.git\n",
        "!pip install qutip\n",
        "!pip install scipy"
      ],
      "metadata": {
        "colab": {
          "base_uri": "https://localhost:8080/"
        },
        "id": "aNxh-VpH0540",
        "outputId": "abf135bf-31bc-4fc4-8e90-fde033d9669b"
      },
      "execution_count": null,
      "outputs": [
        {
          "output_type": "stream",
          "name": "stdout",
          "text": [
            "Collecting git+https://github.com/sympy/sympy.git\n",
            "  Cloning https://github.com/sympy/sympy.git to /tmp/pip-req-build-q9_409bs\n",
            "  Running command git clone --filter=blob:none --quiet https://github.com/sympy/sympy.git /tmp/pip-req-build-q9_409bs\n",
            "  Resolved https://github.com/sympy/sympy.git to commit c741214e5be1cdd0ede61bc01eecf0eb3a67ea4e\n",
            "  Installing build dependencies ... \u001b[?25l\u001b[?25hdone\n",
            "  Getting requirements to build wheel ... \u001b[?25l\u001b[?25hdone\n",
            "  Preparing metadata (pyproject.toml) ... \u001b[?25l\u001b[?25hdone\n",
            "Requirement already satisfied: mpmath>=1.1.0 in /usr/local/lib/python3.10/dist-packages (from sympy==1.14.dev0) (1.3.0)\n",
            "Building wheels for collected packages: sympy\n",
            "  Building wheel for sympy (pyproject.toml) ... \u001b[?25l\u001b[?25hdone\n",
            "  Created wheel for sympy: filename=sympy-1.14.dev0-py3-none-any.whl size=6256771 sha256=35d24fb1979bd6ab8cae3417b22af6d662ba34dd4d8608239fea1da6305e21b1\n",
            "  Stored in directory: /tmp/pip-ephem-wheel-cache-_wlddhim/wheels/77/06/c3/4de376dd4507851c07f5b7581d16e85d493a4ec0f0adbc6423\n",
            "Successfully built sympy\n",
            "Installing collected packages: sympy\n",
            "  Attempting uninstall: sympy\n",
            "    Found existing installation: sympy 1.13.1\n",
            "    Uninstalling sympy-1.13.1:\n",
            "      Successfully uninstalled sympy-1.13.1\n",
            "\u001b[31mERROR: pip's dependency resolver does not currently take into account all the packages that are installed. This behaviour is the source of the following dependency conflicts.\n",
            "torch 2.5.1+cu121 requires sympy==1.13.1; python_version >= \"3.9\", but you have sympy 1.14.dev0 which is incompatible.\u001b[0m\u001b[31m\n",
            "\u001b[0mSuccessfully installed sympy-1.14.dev0\n",
            "Collecting qutip\n",
            "  Downloading qutip-5.0.4-cp310-cp310-manylinux_2_17_x86_64.manylinux2014_x86_64.whl.metadata (9.2 kB)\n",
            "Requirement already satisfied: numpy>=1.22 in /usr/local/lib/python3.10/dist-packages (from qutip) (1.26.4)\n",
            "Requirement already satisfied: scipy>=1.9 in /usr/local/lib/python3.10/dist-packages (from qutip) (1.13.1)\n",
            "Requirement already satisfied: packaging in /usr/local/lib/python3.10/dist-packages (from qutip) (24.2)\n",
            "Downloading qutip-5.0.4-cp310-cp310-manylinux_2_17_x86_64.manylinux2014_x86_64.whl (28.0 MB)\n",
            "\u001b[2K   \u001b[90m━━━━━━━━━━━━━━━━━━━━━━━━━━━━━━━━━━━━━━━━\u001b[0m \u001b[32m28.0/28.0 MB\u001b[0m \u001b[31m71.5 MB/s\u001b[0m eta \u001b[36m0:00:00\u001b[0m\n",
            "\u001b[?25hInstalling collected packages: qutip\n",
            "Successfully installed qutip-5.0.4\n",
            "Requirement already satisfied: scipy in /usr/local/lib/python3.10/dist-packages (1.13.1)\n",
            "Requirement already satisfied: numpy<2.3,>=1.22.4 in /usr/local/lib/python3.10/dist-packages (from scipy) (1.26.4)\n"
          ]
        }
      ]
    },
    {
      "cell_type": "markdown",
      "source": [
        "Packages."
      ],
      "metadata": {
        "id": "vRmo-ojNRfwZ"
      }
    },
    {
      "cell_type": "code",
      "source": [
        "import numpy as np\n",
        "import qutip as qt\n",
        "import sympy as sp\n",
        "import scipy.optimize as sciopt\n",
        "\n",
        "from functools import partial"
      ],
      "metadata": {
        "id": "I7Gf1uVKYjq8"
      },
      "execution_count": null,
      "outputs": []
    },
    {
      "cell_type": "code",
      "source": [
        "import matplotlib.pyplot as plt"
      ],
      "metadata": {
        "id": "nn-aIHWIyRHm"
      },
      "execution_count": null,
      "outputs": []
    },
    {
      "cell_type": "markdown",
      "source": [
        "## Ansatz"
      ],
      "metadata": {
        "id": "2AqDuXYWj11q"
      }
    },
    {
      "cell_type": "markdown",
      "source": [
        "### Basics"
      ],
      "metadata": {
        "id": "wgB8PkjQj6xa"
      }
    },
    {
      "cell_type": "code",
      "source": [
        "def get_cvec_np(r, theta):\n",
        "    r = np.array(r)\n",
        "    theta = np.array(theta)\n",
        "    return r * np.exp(1j * theta)"
      ],
      "metadata": {
        "id": "Di02NNjlj2pV"
      },
      "execution_count": null,
      "outputs": []
    },
    {
      "cell_type": "code",
      "source": [
        "def pack_variables(beta_mag, beta_arg, theta, phi):\n",
        "    Xvec = np.concatenate([\n",
        "        beta_mag.ravel(),\n",
        "        beta_arg.ravel(),\n",
        "        theta.ravel(),\n",
        "        phi.ravel()\n",
        "    ])\n",
        "    return Xvec\n",
        "\n",
        "\n",
        "def unpack_variables(Xvec, ndepth):\n",
        "    size = ndepth * 2\n",
        "\n",
        "    beta_mag = Xvec[:size].reshape((ndepth, 2))\n",
        "    beta_arg = Xvec[size:2*size].reshape((ndepth, 2))\n",
        "    theta = Xvec[2*size:3*size].reshape((ndepth, 2))\n",
        "    phi = Xvec[3*size:].reshape((ndepth, 2))\n",
        "\n",
        "    return beta_mag, beta_arg, theta, phi"
      ],
      "metadata": {
        "id": "PswxXGiyj8UQ"
      },
      "execution_count": null,
      "outputs": []
    },
    {
      "cell_type": "code",
      "source": [
        "def qproj00():\n",
        "    return qt.basis(2, 0).proj()\n",
        "\n",
        "\n",
        "def qproj11():\n",
        "    return qt.basis(2, 1).proj()\n",
        "\n",
        "\n",
        "def qproj01():\n",
        "    op = np.array([[0, 1], [0, 0]])\n",
        "    return qt.Qobj(op)\n",
        "\n",
        "\n",
        "def qproj10():\n",
        "    op = np.array([[0, 0], [1, 0]])\n",
        "    return qt.Qobj(op)"
      ],
      "metadata": {
        "id": "QxYRhoW0j-B_"
      },
      "execution_count": null,
      "outputs": []
    },
    {
      "cell_type": "markdown",
      "source": [
        "### ECDs with qubit rotations"
      ],
      "metadata": {
        "id": "_qnqwAksj-m1"
      }
    },
    {
      "cell_type": "markdown",
      "source": [
        "Qubit rotation with qumode echoed conditional displacement (ECD) operators ([reference](https://doi.org/10.1038/s41567-022-01776-9)) for one qubit and two qumodes\n",
        "\n",
        "\\begin{align*}\n",
        "U (\\vec{\\beta}, \\vec{\\theta}, \\vec{\\phi})\n",
        "&= ECD_2 (\\beta_2) \\:\n",
        "\\big[ R (\\theta_2, \\phi_2) \\otimes I \\otimes I \\big] \\:\n",
        "ECD_1 (\\beta_1) \\:\n",
        "\\big[ R (\\theta_1, \\phi_1) \\otimes I \\otimes I \\big]\n",
        "\\\\\n",
        "ECD_1 (\\beta_1)\n",
        "&= |1 \\rangle \\langle 0| \\otimes D (\\beta_1 / 2) \\otimes I  \n",
        "+ |0 \\rangle \\langle 1| \\otimes D (-\\beta_1 / 2) \\otimes I,\n",
        "\\\\\n",
        "ECD_2 (\\beta_2)\n",
        "&= |1 \\rangle \\langle 0| \\otimes I \\otimes D (\\beta_2 / 2)\n",
        "+ |0 \\rangle \\langle 1| \\otimes I \\otimes D (-\\beta_2 / 2),\n",
        "\\end{align*}\n",
        "\n",
        "where\n",
        "$ R (\\theta, \\phi)\n",
        "= e^{ - i (\\theta / 2) \\big[ \\cos(\\phi) X + \\sin(\\phi) Y \\big] } $ and\n",
        "$ D (\\beta) = e^{ \\beta a^\\dagger - \\beta^* a } $."
      ],
      "metadata": {
        "id": "YNMgSwRCkDoX"
      }
    },
    {
      "cell_type": "code",
      "source": [
        "def qubit_rot(theta, phi):\n",
        "    \"\"\"\n",
        "    R (theta, phi) = exp[ −i (theta/2) ( X cos(phi) + Y sin(phi) ) ].\n",
        "\n",
        "    Arguments:\n",
        "    theta, phi: rotation parameters\n",
        "    \"\"\"\n",
        "    gen = ( qt.sigmax() * np.cos(phi) )\n",
        "    gen += ( qt.sigmay() * np.sin(phi) )\n",
        "\n",
        "    H = -1j * (theta / 2) * gen\n",
        "\n",
        "    return H.expm()"
      ],
      "metadata": {
        "id": "lZ7h5HV4kArK"
      },
      "execution_count": null,
      "outputs": []
    },
    {
      "cell_type": "code",
      "source": [
        "def ecd_op(beta, theta, phi, cind, nfocks):\n",
        "    \"\"\"\n",
        "    ECD operator.\n",
        "\n",
        "    Arguments:\n",
        "    beta -- ECD parameter\n",
        "    theta, phi -- rotation parameters\n",
        "    cind -- qumode index\n",
        "    nfocks -- Fock cutoffs\n",
        "    \"\"\"\n",
        "    # Validate cind\n",
        "    if cind not in (0, 1):\n",
        "        raise ValueError(\"cind must be 0 or 1\")\n",
        "\n",
        "    # ECD\n",
        "    if cind == 0:\n",
        "        E2 = qt.tensor(qproj10(), qt.displace(nfocks[0], beta / 2))\n",
        "        E2 += qt.tensor(qproj01(), qt.displace(nfocks[0], -beta / 2))\n",
        "        E2 = qt.tensor(E2, qt.qeye(nfocks[1]))\n",
        "    else:\n",
        "        E2 = qt.tensor(qproj10(), qt.qeye(nfocks[0]), qt.displace(nfocks[1], beta / 2))\n",
        "        E2 += qt.tensor(qproj01(), qt.qeye(nfocks[0]), qt.displace(nfocks[1], -beta / 2))\n",
        "\n",
        "    return E2"
      ],
      "metadata": {
        "id": "fGyqm2BIkGNF"
      },
      "execution_count": null,
      "outputs": []
    },
    {
      "cell_type": "code",
      "source": [
        "def ecd_rot_op(beta, theta, phi, nfocks):\n",
        "    \"\"\"\n",
        "    ECD-rotation operator.\n",
        "\n",
        "    Arguments:\n",
        "    beta -- ECD parameters\n",
        "    theta, phi -- rotation parameters\n",
        "    nfocks -- Fock cutoffs\n",
        "    \"\"\"\n",
        "    # Rotations\n",
        "    R1 = qt.tensor(qubit_rot(theta[0], phi[0]), qt.qeye(nfocks[0]), qt.qeye(nfocks[1]))\n",
        "    R2 = qt.tensor(qubit_rot(theta[1], phi[1]), qt.qeye(nfocks[0]), qt.qeye(nfocks[1]))\n",
        "\n",
        "    # ECDs\n",
        "    E1 = ecd_op(beta[0], theta[0], phi[0], 0, nfocks)\n",
        "    E2 = ecd_op(beta[1], theta[1], phi[1], 1, nfocks)\n",
        "\n",
        "    return E2 * R2 * E1 * R1"
      ],
      "metadata": {
        "id": "a8mgfNOLkHu4"
      },
      "execution_count": null,
      "outputs": []
    },
    {
      "cell_type": "markdown",
      "source": [
        "Build the ansatz matrix of depth $N_d$\n",
        "\n",
        "$$ \\mathcal{U} (\\bar{\\beta}, \\bar{\\theta}, \\bar{\\phi})\n",
        "= U (\\vec{\\beta}_{N_d}, \\vec{\\theta}_{N_d}, \\vec{\\phi}_{N_d}) \\cdots\n",
        "U (\\vec{\\beta}_1, \\vec{\\theta}_1, \\vec{\\phi}_1),\n",
        "$$\n",
        "\n",
        "where $\\bar{\\beta}, \\bar{\\theta}$, and $\\bar{\\phi}$ are matrices of dimensions $N_d \\times 2$.\n",
        "The matrix $\\bar{\\beta}$ is also complex-valued."
      ],
      "metadata": {
        "id": "A123JxZ4kMVz"
      }
    },
    {
      "cell_type": "code",
      "source": [
        "def ecd_rot_ansatz(bmag_mat, barg_mat, theta_mat, phi_mat, nfocks):\n",
        "    \"\"\"\n",
        "    ECD-rotation ansatz.\n",
        "\n",
        "    Arguments:\n",
        "    bmag_mat, barg_mat -- ECD parameters\n",
        "    theta_mat, phi_mat -- rotation parameters\n",
        "    nfocks -- Fock cutoffs\n",
        "    \"\"\"\n",
        "    # Check\n",
        "    if bmag_mat.shape != barg_mat.shape:\n",
        "        raise ValueError(\"Dimensions of bmag_mat and barg_mat do not match.\")\n",
        "    beta_mat = get_cvec_np(bmag_mat, barg_mat)\n",
        "    if beta_mat.shape != theta_mat.shape:\n",
        "        raise ValueError(\"Lengths of beta_mat and theta_mat do not match.\")\n",
        "    if beta_mat.shape != phi_mat.shape:\n",
        "        raise ValueError(\"Lengths of beta_mat and phi_mat do not match.\")\n",
        "\n",
        "    # Initialize\n",
        "    ndepth = beta_mat.shape[0]\n",
        "    uni = ecd_rot_op(beta_mat[0, :], theta_mat[0, :], phi_mat[0, :], nfocks)\n",
        "\n",
        "    # Check\n",
        "    if ndepth == 1:\n",
        "        return uni\n",
        "\n",
        "    # Loop through blocks\n",
        "    for i in range(1, ndepth):\n",
        "        new_uni = ecd_rot_op(beta_mat[i, :], theta_mat[i, :], phi_mat[i, :], nfocks)\n",
        "        uni = ( new_uni * uni )\n",
        "\n",
        "    return uni"
      ],
      "metadata": {
        "id": "XdTaEqQfkJd7"
      },
      "execution_count": null,
      "outputs": []
    },
    {
      "cell_type": "markdown",
      "source": [
        "## Hamiltonian"
      ],
      "metadata": {
        "id": "HtqShu-vixG1"
      }
    },
    {
      "cell_type": "markdown",
      "source": [
        "### Basics"
      ],
      "metadata": {
        "id": "-yGF22SRmwNK"
      }
    },
    {
      "cell_type": "code",
      "source": [
        "def decimal_to_binary(decimal_number, length):\n",
        "    # Convert the decimal number to binary and strip the '0b' prefix\n",
        "    binary_representation = bin(decimal_number)[2:]\n",
        "\n",
        "    # Pad the binary representation with leading zeros if necessary\n",
        "    padded_binary = binary_representation.zfill(length)\n",
        "\n",
        "    # If the padded length is less than the specified length, raise an error\n",
        "    if len(padded_binary) > length:\n",
        "        raise ValueError(\"The binary representation is longer than the specified length.\")\n",
        "\n",
        "    return padded_binary\n",
        "\n",
        "\n",
        "def binary_to_decimal(binary_string, length):\n",
        "    # Validate that the input is a binary string of the specified length\n",
        "    if len(binary_string) != length:\n",
        "        raise ValueError(f\"Input must be a binary string of length {length}.\")\n",
        "\n",
        "    if not all(bit in '01' for bit in binary_string):\n",
        "        raise ValueError(\"Input must be a binary string.\")\n",
        "\n",
        "    # Convert the binary string to decimal\n",
        "    decimal_number = int(binary_string, 2)\n",
        "\n",
        "    return decimal_number"
      ],
      "metadata": {
        "id": "_opH2jBbmxOm"
      },
      "execution_count": null,
      "outputs": []
    },
    {
      "cell_type": "code",
      "source": [
        "def find_basis_state(state_vector):\n",
        "    # Convert input to a Qobj if it isn't already\n",
        "    if not isinstance(state_vector, qt.Qobj):\n",
        "        state_vector = qt.Qobj(state_vector)\n",
        "\n",
        "    # Get the number of qubits based on the length of the state vector\n",
        "    N = int(np.log2(state_vector.shape[0]))\n",
        "\n",
        "    # Check if the state vector is normalized\n",
        "    if not np.isclose(state_vector.norm(), 1):\n",
        "        raise ValueError(\"Input state vector must be normalized.\")\n",
        "\n",
        "    # Generate all possible basis states for N qubits\n",
        "    basis_states = [qt.basis(2**N, i) for i in range(2**N)]\n",
        "\n",
        "    # Check overlap with all basis states\n",
        "    for index, b in enumerate(basis_states):\n",
        "        overlap = state_vector.overlap(b)\n",
        "        if np.isclose(overlap, 1):\n",
        "            # Convert index to binary representation\n",
        "            return format(index, f'0{N}b')  # Format as binary string with leading zeros\n",
        "\n",
        "    # If no overlap found, return None (or raise an error)\n",
        "    return None"
      ],
      "metadata": {
        "id": "crdMfcpTm_SI"
      },
      "execution_count": null,
      "outputs": []
    },
    {
      "cell_type": "markdown",
      "source": [
        "### Qubit"
      ],
      "metadata": {
        "id": "uOycmeirmx81"
      }
    },
    {
      "cell_type": "code",
      "source": [
        "def binary_to_qubit_ham(H_bin, symbol_list, include_id=False):\n",
        "    \"\"\"\n",
        "    Map a symbolic binary Hamiltonian to a spin Hamiltonian.\n",
        "\n",
        "    Arguments:\n",
        "    H_bin -- The binary Hamiltonian as a SymPy object\n",
        "    symbol_list -- SymPy symbols defining the Hamiltonian\n",
        "    include_id -- identity as symbol (True) or value 1 (False)\n",
        "    \"\"\"\n",
        "    # Initialize spin variables (Z0, Z1, ..., Zn)\n",
        "    z_symbols = sp.symbols('z:{}'.format(len(symbol_list)))\n",
        "\n",
        "    # Define the identity operator (I_j)\n",
        "    Ident = sp.symbols(r'\\mathbb{I}') if include_id else 1.0\n",
        "\n",
        "    # Create a mapping dictionary from binary symbols to spin expressions\n",
        "    bin2spin_dict = {\n",
        "        symbol: (1/2)*(Ident - z) for symbol, z in zip(symbol_list, z_symbols)\n",
        "    }\n",
        "\n",
        "    # Convert the binary Hamiltonian to a spin Hamiltonian\n",
        "    spin_ham = H_bin.subs(bin2spin_dict).expand()\n",
        "\n",
        "    # Z^2 = I\n",
        "    sq_z = [z**2 for z in z_symbols]\n",
        "    sq_values = [Ident] * len(z_symbols)  # All squared terms map to the identity\n",
        "    spin_squared_map = dict(zip(sq_z, sq_values))\n",
        "\n",
        "    # Substitute squared terms\n",
        "    red_spin_ham = spin_ham.subs(spin_squared_map)\n",
        "\n",
        "    return red_spin_ham\n",
        "\n",
        "\n",
        "def check_spinz(input_list, spinz):\n",
        "    out_val = ['I']*len(spinz)\n",
        "    for ll in range(len(input_list)):\n",
        "        out_val[int(input_list[ll].strip('z'))] = 'Z'\n",
        "    return out_val\n",
        "\n",
        "\n",
        "def sympy_to_pauli_dict(smpy_exp):\n",
        "    \"\"\"\n",
        "    Convert a sympy spin Hamiltonian expression to a dictionary with\n",
        "    Pauli words as keys and string coefficients as values.\n",
        "    \"\"\"\n",
        "    # Determine the number of qubits\n",
        "    spinz = smpy_exp.free_symbols\n",
        "\n",
        "    # Split at spaces so we have the individual terms/coefficients\n",
        "    split_expr = str(smpy_exp).split()\n",
        "\n",
        "    # Firs iteration\n",
        "    matrix_dict = {}\n",
        "    split_term = split_expr[0].split('*')\n",
        "    tmp_coeff = split_term[0]\n",
        "    tmp_paulis = split_term[1:]\n",
        "    pauli_word = ''.join(check_spinz(tmp_paulis, spinz))\n",
        "    matrix_dict[pauli_word] = tmp_coeff\n",
        "\n",
        "    # Iterate through the remaining terms\n",
        "    for ii in range(1, len(split_expr), 2):\n",
        "        tmp_sign = split_expr[ii]\n",
        "        split_term = split_expr[ii+1].split('*')\n",
        "        tmp_coeff  = split_term[0]\n",
        "        tmp_paulis = split_term[1:]\n",
        "        pauli_word = ''.join(check_spinz(tmp_paulis, spinz))\n",
        "        matrix_dict[pauli_word] = tmp_sign+tmp_coeff\n",
        "\n",
        "    return matrix_dict\n",
        "\n",
        "\n",
        "def binary_to_pauli_list(H_total, symbol_list):\n",
        "    \"\"\"\n",
        "    Maps a binary Hamiltonian to Pauli terms and coefficients.\n",
        "\n",
        "    Arguments:\n",
        "    H_total -- The binary Hamiltonian\n",
        "    symbol_list -- symbols defining the Hamiltonian\n",
        "    \"\"\"\n",
        "    spin_ham = binary_to_qubit_ham(H_total, symbol_list)\n",
        "    op_dict = sympy_to_pauli_dict(spin_ham)\n",
        "\n",
        "    return [[key, float(value)] for key, value in op_dict.items()]"
      ],
      "metadata": {
        "id": "LkmCqVDzkfEp"
      },
      "execution_count": null,
      "outputs": []
    },
    {
      "cell_type": "markdown",
      "source": [
        "### Qudit"
      ],
      "metadata": {
        "id": "vBDeLYW6m1jK"
      }
    },
    {
      "cell_type": "code",
      "source": [
        "def matrices_to_qudit_list(matrices):\n",
        "    \"\"\"\n",
        "    Maps list of matrices to qudit terms.\n",
        "\n",
        "    Argument:\n",
        "    matrices -- list of matrices\n",
        "    \"\"\"\n",
        "    # Initialize the result list\n",
        "    result = []\n",
        "\n",
        "    # Get the number of matrices\n",
        "    num_matrices = len(matrices)\n",
        "\n",
        "    # Create a list to store diagonal values from each matrix\n",
        "    diagonal_values = []\n",
        "\n",
        "    # Collect diagonal values and their labels\n",
        "    for index, matrix in enumerate(matrices):\n",
        "        diag = np.diagonal(matrix)  # Get the diagonal elements\n",
        "        diagonal_values.append((diag, index))  # Store as (diagonal_elements, index)\n",
        "\n",
        "    # Recursive function to generate combinations of indices\n",
        "    def generate_combinations(combination, depth):\n",
        "        if depth == num_matrices:\n",
        "            # Calculate the product for the current combination\n",
        "            product = 1\n",
        "            label = []\n",
        "            for matrix_index, diag_index in combination:\n",
        "                product *= matrices[matrix_index][diag_index, diag_index]\n",
        "                label.append(f'P{diag_index}')\n",
        "            result.append([ ', '.join(label), product ])\n",
        "            return\n",
        "\n",
        "        # Loop through the diagonal elements of the current matrix\n",
        "        diag, matrix_index = diagonal_values[depth]\n",
        "        for i in range(len(diag)):\n",
        "            generate_combinations(combination + [(matrix_index, i)], depth + 1)\n",
        "\n",
        "    # Start generating combinations\n",
        "    generate_combinations([], 0)\n",
        "\n",
        "    return result\n",
        "\n",
        "\n",
        "def partition_string_list(input_list, partition_vector):\n",
        "    \"\"\"\n",
        "    Partition the string in the input list based on the partition vector.\n",
        "\n",
        "    Arguments:\n",
        "    input_list -- A list where the first element is a string to partition,\n",
        "                  and the last element is a value to retain.\n",
        "    partition_vector -- A list of integers that specifies the lengths of the partitions.\n",
        "\n",
        "    Returns:\n",
        "    A new list with the partitioned string and the retained value.\n",
        "    \"\"\"\n",
        "    # Ensure the partition_vector is valid\n",
        "    string_part = input_list[0]\n",
        "    total_length = sum(partition_vector)\n",
        "\n",
        "    if total_length != len(string_part):\n",
        "        raise ValueError(\"The sum of the partition vector must equal the length of the string.\")\n",
        "\n",
        "    # Partition the string based on the partition vector\n",
        "    partitions = []\n",
        "    start_index = 0\n",
        "\n",
        "    for size in partition_vector:\n",
        "        partitions.append(string_part[start_index:start_index + size])\n",
        "        start_index += size\n",
        "\n",
        "    # Return the modified list\n",
        "    return partitions + [input_list[-1]]\n",
        "\n",
        "\n",
        "def partitioned_pauli_term_to_qudit_term(pterm):\n",
        "    mat_list = []\n",
        "    for i in range(len(pterm) - 1):\n",
        "        new_mat = generate_tensor_product(pterm[i])\n",
        "        if i == 0:\n",
        "            new_mat *= pterm[-1]\n",
        "        mat_list.append(np.real( new_mat.full() ))\n",
        "\n",
        "    return matrices_to_qudit_list(mat_list)\n",
        "\n",
        "\n",
        "def pauli_list_to_qudit_terms(pterms, partition_vector):\n",
        "    term_list = []\n",
        "    for term in pterms:\n",
        "        new_term = partition_string_list(term, partition_vector)\n",
        "        qudit_term = partitioned_pauli_term_to_qudit_term(new_term)\n",
        "        term_list.append(qudit_term)\n",
        "\n",
        "    result_dict = {}\n",
        "    for lst in term_list:\n",
        "        for key, value in lst:\n",
        "            if key in result_dict:\n",
        "                result_dict[key] += value\n",
        "            else:\n",
        "                result_dict[key] = value\n",
        "    return [[key, value] for key, value in result_dict.items()]"
      ],
      "metadata": {
        "id": "j83yeOAskmfg"
      },
      "execution_count": null,
      "outputs": []
    },
    {
      "cell_type": "markdown",
      "source": [
        "### Knapsack"
      ],
      "metadata": {
        "id": "ltgRibXPm5Fz"
      }
    },
    {
      "cell_type": "code",
      "source": [
        "def binary_knapsack_ham(l_val, values, weights, max_weight, include_id=False):\n",
        "    \"\"\"\n",
        "    Generates the binary Hamiltonian for the knapsack problem.\n",
        "\n",
        "    Arguments:\n",
        "    l_val -- lambda penalty parameter\n",
        "    values -- item values\n",
        "    weights -- item weights\n",
        "    max_weight -- total weight capacity\n",
        "    include_id -- identity as symbol (True) or value 1 (False)\n",
        "\n",
        "    Returns:\n",
        "    H_total -- The binary Hamiltonian\n",
        "    \"\"\"\n",
        "    # Number of primary variables\n",
        "    N_qb = len(weights)\n",
        "\n",
        "    # Symbols\n",
        "    symbol_list = list(sp.symbols('x_:{}'.format(str(N_qb))))\n",
        "    Ident = sp.symbols(r'\\mathbb{I}') if include_id else 1.\n",
        "\n",
        "    # E = sum(i) v(i) x(i)\n",
        "    H_prob = sum(values[ii] * symbol_list[ii] for ii in range(N_qb))\n",
        "\n",
        "    # Calculate scaling factor\n",
        "    max_weight_bin_str = bin(max_weight).lstrip('0b')  # Step 1\n",
        "    max_val = 2**len(max_weight_bin_str) - 1  # Step 2\n",
        "    scaling_factor = max_val / max_weight  # Step 3\n",
        "\n",
        "    # Apply scaling to weights\n",
        "    scaled_weights = [weight * scaling_factor for weight in weights]\n",
        "\n",
        "    # W0 = sum(i) w(i) x(i)\n",
        "    H_constraints = sum(scaled_weights[ii] * symbol_list[ii] for ii in range(N_qb))\n",
        "\n",
        "    # Bitstring representation converted to list\n",
        "    bin_weight = list(bin(max_weight).lstrip('0b'))[::-1]\n",
        "\n",
        "    # Auxiliary symbol indices start after the primary variables\n",
        "    aux_symbols = sp.symbols('x_{}:{}'.format(str(N_qb), str(N_qb + len(bin_weight))))\n",
        "\n",
        "    # A = sum(i) 2^i y(i)\n",
        "    H_constraints_aux = sum(aux_symbols[ii] * 2**ii for ii in range(len(bin_weight)))\n",
        "\n",
        "    # Full Hamiltonian\n",
        "    H_total = -H_prob + l_val * (max_weight - H_constraints - H_constraints_aux)**2\n",
        "\n",
        "    # Construct full list of symbols in expression\n",
        "    symbol_list.extend(list(aux_symbols))\n",
        "\n",
        "    # Create a list of x_j**2\n",
        "    sq_syms = [temp_sym**2 for temp_sym in symbol_list]\n",
        "\n",
        "    # Maps x_j^{2} to x_j:\n",
        "    conv_dict = dict(zip(sq_syms, list(symbol_list)))\n",
        "\n",
        "    # Final binary Hamiltonian\n",
        "    H_total = H_total.subs(conv_dict)\n",
        "\n",
        "    return H_total, symbol_list"
      ],
      "metadata": {
        "id": "XEftHLHnkXYj"
      },
      "execution_count": null,
      "outputs": []
    },
    {
      "cell_type": "code",
      "source": [
        "def generate_tensor_product(string):\n",
        "    \"\"\"\n",
        "    Get QuTip object given a string representing a Pauli word.\n",
        "    \"\"\"\n",
        "    # Define a mapping of characters to corresponding QuTiP operators\n",
        "    operator_map = {\n",
        "        'I': qt.qeye(2),  # Identity operator\n",
        "        'X': qt.sigmax(),  # Pauli-X operator\n",
        "        'Y': qt.sigmay(),  # Pauli-Y operator\n",
        "        'Z': qt.sigmaz()   # Pauli-Z operator\n",
        "    }\n",
        "\n",
        "    # Create a list to collect the operators\n",
        "    operators = []\n",
        "\n",
        "    # Append the corresponding operators based on the input string\n",
        "    for char in string:\n",
        "        operators.append(operator_map[char])\n",
        "\n",
        "    # Compute the tensor product of all operators in the list\n",
        "    U = qt.tensor(*operators).full()\n",
        "\n",
        "    return qt.Qobj(U)\n",
        "\n",
        "\n",
        "def qubit_op_to_ham(pterms):\n",
        "    \"\"\"\n",
        "    Get QuTip object given a set of Pauli words and correspdoing coefficients.\n",
        "    \"\"\"\n",
        "    terms = []\n",
        "    for p in pterms:\n",
        "        term = ( p[1] * generate_tensor_product(p[0]) )\n",
        "        terms.append(term)\n",
        "\n",
        "    return sum(terms)"
      ],
      "metadata": {
        "id": "K16m2kOuiBFu"
      },
      "execution_count": null,
      "outputs": []
    },
    {
      "cell_type": "markdown",
      "source": [
        "## Loss function"
      ],
      "metadata": {
        "id": "SlnpmbAAZMsD"
      }
    },
    {
      "cell_type": "markdown",
      "source": [
        "We want to minimize the following cost function:\n",
        "\n",
        "$$ \\min_{ \\overrightarrow{\\beta}, \\overrightarrow{\\theta}, \\overrightarrow{\\phi} } E\n",
        "= \\langle \\psi (\\overrightarrow{\\beta}, \\overrightarrow{\\theta}, \\overrightarrow{\\phi}) | \\:\n",
        "H \\: |\\psi (\\overrightarrow{\\beta}, \\overrightarrow{\\theta}, \\overrightarrow{\\phi})\\rangle,\n",
        "$$\n",
        "where $H$ is the two-qumode Hamiltonian and $|\\psi \\rangle$ is the two-qumode state traced from the ECD-rotation ansatz $|\\Psi \\rangle$."
      ],
      "metadata": {
        "id": "o6yTYgDmZRIk"
      }
    },
    {
      "cell_type": "code",
      "source": [
        "def state_from_ecd(Xvec, ndepth, nfocks):\n",
        "    \"\"\"\n",
        "    Qumode state |Psi> = U ( |0> |0, 0> ).\n",
        "\n",
        "    Arguments:\n",
        "    Xvec -- ECD-rotation parameters\n",
        "    ndepth -- circuit depth\n",
        "    nfocks -- Fock cutoffs\n",
        "    \"\"\"\n",
        "    # Parameters\n",
        "    beta_mag, beta_arg, theta, phi = unpack_variables(Xvec, ndepth)\n",
        "\n",
        "    # ECD unitary\n",
        "    U = ecd_rot_ansatz(beta_mag, beta_arg, theta, phi, nfocks)\n",
        "\n",
        "    # U |0, 0, 0>\n",
        "    vac = qt.tensor( qt.basis(2, 0), qt.basis(nfocks[0], 0), qt.basis(nfocks[1], 0) )\n",
        "    psi = U * vac\n",
        "\n",
        "    return psi"
      ],
      "metadata": {
        "id": "ZQ2hxCupZOAV"
      },
      "execution_count": null,
      "outputs": []
    },
    {
      "cell_type": "code",
      "source": [
        "def energy_val(Xvec, ndepth, nfocks, H):\n",
        "    \"\"\"\n",
        "    Compute <psi | H |psi > where\n",
        "\n",
        "    |psi (n, m)> <== U ( |0> |0, 0> ).\n",
        "\n",
        "    Arguments:\n",
        "    Xvec -- ansatz ECD-rotation parameters\n",
        "    H -- QuTip two-qumode Hamiltonian\n",
        "    nfock -- Fock cutoff for qumode\n",
        "    ndepth -- circuit depth\n",
        "    \"\"\"\n",
        "    # Qubit-qubit-qumode state\n",
        "    psi = state_from_ecd(Xvec, ndepth, nfocks)\n",
        "    psi = qt.Qobj( psi.full() )\n",
        "\n",
        "    # Expectation value\n",
        "    ham = qt.Qobj( H.full() )\n",
        "    en = qt.expect(ham, psi)\n",
        "\n",
        "    return en"
      ],
      "metadata": {
        "id": "b5y170INZTZV"
      },
      "execution_count": null,
      "outputs": []
    },
    {
      "cell_type": "markdown",
      "source": [
        "## Analysis"
      ],
      "metadata": {
        "id": "BbsnjUVwaGAw"
      }
    },
    {
      "cell_type": "code",
      "source": [
        "def generate_triples(nfocks):\n",
        "    # Create ranges for q, n, and m\n",
        "    q_range = np.arange(2)\n",
        "    n_range = np.arange(nfocks[0])\n",
        "    m_range = np.arange(nfocks[1])\n",
        "\n",
        "    # Create a meshgrid of q, n, and m with valid indexing\n",
        "    q_grid, n_grid, m_grid = np.meshgrid(q_range, n_range, m_range, indexing='ij')\n",
        "\n",
        "    # Stack the grids to get (q, n, m) triples\n",
        "    triples = np.stack((q_grid.ravel(), n_grid.ravel(), m_grid.ravel()), axis=-1)\n",
        "\n",
        "    return triples"
      ],
      "metadata": {
        "id": "GhrfTQgraIM5"
      },
      "execution_count": null,
      "outputs": []
    },
    {
      "cell_type": "code",
      "source": [
        "def num_prob_basis(Xvec, nvec, ndepth, nfocks):\n",
        "    \"\"\"\n",
        "    | <psi | q, n, m> |^2, where\n",
        "\n",
        "    |psi> <== U |0, 0, 0>.\n",
        "\n",
        "    Arguments:\n",
        "    Xvec -- ansatz parameters\n",
        "    nvec -- Fock basis state indices\n",
        "    nfocks -- Fock cutoffs\n",
        "    ndepth -- circuit depth\n",
        "    \"\"\"\n",
        "    # Qubit-qubit-qumode state\n",
        "    psi = state_from_ecd(Xvec, ndepth, nfocks)\n",
        "\n",
        "    # |q, n, m >\n",
        "    state = qt.tensor(qt.basis(2, nvec[0]),\n",
        "                      qt.basis(nfocks[0], nvec[1]),\n",
        "                      qt.basis(nfocks[1], nvec[2]) )\n",
        "\n",
        "    # Expectation value\n",
        "    P0 = psi.overlap(state)\n",
        "\n",
        "    return np.abs(P0)**2\n",
        "\n",
        "\n",
        "def num_prob_all(Xvec, ndepth, nfocks):\n",
        "    \"\"\"\n",
        "    | <psi | q, n, m> |^2 for all (n, m).\n",
        "\n",
        "    Arguments:\n",
        "    Xvec -- ansatz parameters\n",
        "    nfock -- Fock cutoff for single qumode\n",
        "    nvec -- Fock basis state indices\n",
        "    \"\"\"\n",
        "    # Initialize\n",
        "    N1 = generate_triples(nfocks)\n",
        "    ntriples = N1.shape[0]\n",
        "\n",
        "    # Generate\n",
        "    P1 = []\n",
        "    for i in range(ntriples):\n",
        "        P1.append( num_prob_basis(Xvec, N1[i, :], ndepth, nfocks) )\n",
        "\n",
        "    return np.array(P1)"
      ],
      "metadata": {
        "id": "HdHf0qbAaKOy"
      },
      "execution_count": null,
      "outputs": []
    },
    {
      "cell_type": "markdown",
      "source": [
        "## Optimization"
      ],
      "metadata": {
        "id": "ftaKP4B3dvwl"
      }
    },
    {
      "cell_type": "code",
      "source": [
        "def ecd_opt_vqe(H, ndepth, nfocks, maxiter=100, method='COBYLA', verb=0,\n",
        "                threshold=1e-08, print_freq=10, Xvec=[]):\n",
        "    \"\"\"\n",
        "    Minimize the cost function using SciPy-based methods.\n",
        "\n",
        "    Arguments:\n",
        "    H -- QuTip Hamiltonian\n",
        "    ndepth -- ansatz circuit depth\n",
        "    nfocks -- Fock cutoffs\n",
        "    maxiter -- maximum number of iterations\n",
        "    method -- optimization method\n",
        "    threshold -- error tolerance\n",
        "    Xvec -- optional initial guesses\n",
        "    print_freq -- frequency of printing and storing intermediate results\n",
        "    \"\"\"\n",
        "    # Bound parameters\n",
        "    beta_mag_min = 0.0\n",
        "    beta_mag_max = 10.0\n",
        "    beta_arg_min = 0.0\n",
        "    beta_arg_max = 2 * np.pi\n",
        "    theta_min = 0.0\n",
        "    theta_max = np.pi\n",
        "    phi_min = 0.0\n",
        "    phi_max = 2 * np.pi\n",
        "\n",
        "    # Define bounds\n",
        "    size = ndepth * 2\n",
        "    beta_mag_bounds = [(beta_mag_min, beta_mag_max)] * size\n",
        "    beta_arg_bounds = [(beta_arg_min, beta_arg_max)] * size\n",
        "    theta_bounds = [(theta_min, theta_max)] * size\n",
        "    phi_bounds = [(phi_min, phi_max)] * size\n",
        "    bounds = beta_mag_bounds + beta_arg_bounds + theta_bounds + phi_bounds\n",
        "\n",
        "    # Guess\n",
        "    if len(Xvec) == 0:\n",
        "        beta_mag = np.random.uniform(0, 3, size=(ndepth, 2))\n",
        "        beta_arg = np.random.uniform(0, np.pi, size=(ndepth, 2))\n",
        "        theta = np.random.uniform(0, np.pi, size=(ndepth, 2))\n",
        "        phi = np.random.uniform(0, np.pi, size=(ndepth, 2))\n",
        "        Xvec = pack_variables(beta_mag, beta_arg, theta, phi)\n",
        "\n",
        "    # Loss function\n",
        "    obj_fun = partial(energy_val, ndepth=ndepth, nfocks=nfocks, H=H)\n",
        "\n",
        "    # Intermediate values\n",
        "    iteration_step = 0\n",
        "    intermediate_results = []\n",
        "\n",
        "    def callback(xk):\n",
        "        nonlocal iteration_step\n",
        "        iteration_step += 1\n",
        "        loss_value = obj_fun(xk)\n",
        "        if verb == 1 and (iteration_step % print_freq == 0):\n",
        "            print(\"-------------------\")\n",
        "            print(f\"iter: {iteration_step}\")\n",
        "            print(f\"fval: {loss_value}\")\n",
        "\n",
        "        # Store intermediate results\n",
        "        if iteration_step % print_freq == 0:\n",
        "            intermediate_results.append((loss_value, xk.copy()))\n",
        "\n",
        "    # SciPy options\n",
        "    options = {'disp': True, 'maxiter': maxiter}\n",
        "\n",
        "    # Optimize\n",
        "    result = sciopt.minimize(obj_fun, Xvec, method=method, bounds=bounds,\n",
        "                             tol=threshold, options=options, callback=callback)\n",
        "\n",
        "    return result.fun, result.x, intermediate_results"
      ],
      "metadata": {
        "id": "Hf1lYpTidxCL"
      },
      "execution_count": null,
      "outputs": []
    },
    {
      "cell_type": "markdown",
      "source": [
        "## Explore"
      ],
      "metadata": {
        "id": "MrQISVFu8JWE"
      }
    },
    {
      "cell_type": "markdown",
      "source": [
        "Let us discuss the binary knapsack problem of $N$ items\n",
        "\n",
        "\\begin{align*}\n",
        "\\max_{\\mathbf{x}} E\n",
        "&= \\sum_{j = 1}^N v_j \\: x_j,\n",
        "\\\\\n",
        "\\text{subject to} \\quad W_0 (\\mathbf{x})\n",
        "&= \\sum_{j = 1}^N w_j \\: x_j \\leq W,\n",
        "\\end{align*}\n",
        "where $\\{ v_j \\}$ are values, $\\{ w_j \\}$ are weights, and $W$ is the total weight capacity.\n",
        "The cost function optimization becomes\n",
        "\n",
        "$$ \\min_{\\mathbf{x}, \\mathbf{y}} F\n",
        "= - E (\\mathbf{x})\n",
        "+ \\lambda \\: \\Big[ W - W_0 (\\mathbf{x})\n",
        "- \\sum_{j = 1}^M \\: 2^{j - 1} \\: y_j \\Big]^2,\n",
        "$$\n",
        "where the sum of $M = \\lceil \\log_2 (W + 1) \\rceil$ terms represent the auxiliary variables with $\\lambda$ being the quadratic penalty coefficient."
      ],
      "metadata": {
        "id": "8a5APKhvj8Vi"
      }
    },
    {
      "cell_type": "code",
      "source": [
        "values = [2, 5, 7, 3]\n",
        "weights = [2.5, 3, 4, 3.5]\n",
        "max_weight = 7\n",
        "l_val = 2\n",
        "\n",
        "bkp_fun1, bkp_list1 = binary_knapsack_ham(l_val, values, weights, max_weight)\n",
        "bkp_fun1"
      ],
      "metadata": {
        "id": "LEEu-m5SiPoS",
        "colab": {
          "base_uri": "https://localhost:8080/",
          "height": 39
        },
        "outputId": "991fd999-5f7d-4f57-af78-3d28b005dc1c"
      },
      "execution_count": null,
      "outputs": [
        {
          "output_type": "execute_result",
          "data": {
            "text/plain": [
              "-2*x_0 - 5*x_1 - 7*x_2 - 3*x_3 + 2*(-2.5*x_0 - 3.0*x_1 - 4.0*x_2 - 3.5*x_3 - x_4 - 2*x_5 - 4*x_6 + 7)**2"
            ],
            "text/latex": "$\\displaystyle - 2 x_{0} - 5 x_{1} - 7 x_{2} - 3 x_{3} + 2 \\left(- 2.5 x_{0} - 3.0 x_{1} - 4.0 x_{2} - 3.5 x_{3} - x_{4} - 2 x_{5} - 4 x_{6} + 7\\right)^{2}$"
          },
          "metadata": {},
          "execution_count": 22
        }
      ]
    },
    {
      "cell_type": "markdown",
      "source": [
        "Qubit Hamiltonian."
      ],
      "metadata": {
        "id": "GQwdq1JYnzDN"
      }
    },
    {
      "cell_type": "code",
      "source": [
        "bkp_list1 = binary_to_pauli_list(bkp_fun1, bkp_list1)\n",
        "bkp_list1"
      ],
      "metadata": {
        "id": "DUQ9hGzD4CY8",
        "colab": {
          "base_uri": "https://localhost:8080/"
        },
        "outputId": "2454e131-5b1e-4b87-ff18-ed84fa777282"
      },
      "execution_count": null,
      "outputs": [
        {
          "output_type": "execute_result",
          "data": {
            "text/plain": [
              "[['ZZIIIII', 7.5],\n",
              " ['ZIZIIII', 10.0],\n",
              " ['ZIIZIII', 8.75],\n",
              " ['ZIIIZII', 2.5],\n",
              " ['ZIIIIZI', 5.0],\n",
              " ['ZIIIIIZ', 10.0],\n",
              " ['ZIIIIII', -14.0],\n",
              " ['IZZIIII', 12.0],\n",
              " ['IZIZIII', 10.5],\n",
              " ['IZIIZII', 3.0],\n",
              " ['IZIIIZI', 6.0],\n",
              " ['IZIIIIZ', 12.0],\n",
              " ['IZIIIII', -15.5],\n",
              " ['IIZZIII', 14.0],\n",
              " ['IIZIZII', 4.0],\n",
              " ['IIZIIZI', 8.0],\n",
              " ['IIZIIIZ', 16.0],\n",
              " ['IIZIIII', -20.5],\n",
              " ['IIIZZII', 3.5],\n",
              " ['IIIZIZI', 7.0],\n",
              " ['IIIZIIZ', 14.0],\n",
              " ['IIIZIII', -19.5],\n",
              " ['IIIIZZI', 2.0],\n",
              " ['IIIIZIZ', 4.0],\n",
              " ['IIIIZII', -6.0],\n",
              " ['IIIIIZZ', 8.0],\n",
              " ['IIIIIZI', -12.0],\n",
              " ['IIIIIIZ', -24.0],\n",
              " ['IIIIIII', 41.75]]"
            ]
          },
          "metadata": {},
          "execution_count": 23
        }
      ]
    },
    {
      "cell_type": "code",
      "source": [
        "bkp_ham1 = qt.Qobj( qubit_op_to_ham(bkp_list1).full() )\n",
        "evals, evecs = bkp_ham1.eigenstates()"
      ],
      "metadata": {
        "id": "jqXNbFk9n0Ws"
      },
      "execution_count": null,
      "outputs": []
    },
    {
      "cell_type": "code",
      "source": [
        "evals[:10]"
      ],
      "metadata": {
        "colab": {
          "base_uri": "https://localhost:8080/"
        },
        "id": "NNHYlehHoAaw",
        "outputId": "1a92e661-9250-4798-be91-28b7906aafbc"
      },
      "execution_count": null,
      "outputs": [
        {
          "output_type": "execute_result",
          "data": {
            "text/plain": [
              "array([-12. , -10. ,  -9.5,  -8.5,  -8.5,  -7.5,  -7.5,  -7. ,  -6.5,\n",
              "        -6.5])"
            ]
          },
          "metadata": {},
          "execution_count": 25
        }
      ]
    },
    {
      "cell_type": "code",
      "source": [
        "for i in range(10):\n",
        "    print(f\"State {i}: \", find_basis_state(evecs[i]))"
      ],
      "metadata": {
        "colab": {
          "base_uri": "https://localhost:8080/"
        },
        "id": "MU0CelqNoC6u",
        "outputId": "75dd2713-0101-4fff-b6b4-e71b2f665590"
      },
      "execution_count": null,
      "outputs": [
        {
          "output_type": "stream",
          "name": "stdout",
          "text": [
            "State 0:  0110000\n",
            "State 1:  0110100\n",
            "State 2:  0011000\n",
            "State 3:  1010000\n",
            "State 4:  1010100\n",
            "State 5:  0101000\n",
            "State 6:  0101100\n",
            "State 7:  0010110\n",
            "State 8:  1100010\n",
            "State 9:  1100100\n"
          ]
        }
      ]
    },
    {
      "cell_type": "markdown",
      "source": [
        "Fock Hamiltonian."
      ],
      "metadata": {
        "id": "2Ey7GSsE_H1J"
      }
    },
    {
      "cell_type": "code",
      "source": [
        "bkp_part1 = [1, 3, 3,] # Qubit partition\n",
        "\n",
        "bkp_ham2 = pauli_list_to_qudit_terms(bkp_list1, bkp_part1)\n",
        "bkp_ham2"
      ],
      "metadata": {
        "colab": {
          "base_uri": "https://localhost:8080/"
        },
        "id": "IssIh7C0_J2o",
        "outputId": "a8850206-32ad-4c81-abb8-5125e36950dc"
      },
      "execution_count": null,
      "outputs": [
        {
          "output_type": "execute_result",
          "data": {
            "text/plain": [
              "[['P0, P0, P0', 98.0],\n",
              " ['P0, P0, P1', 18.0],\n",
              " ['P0, P0, P2', 50.0],\n",
              " ['P0, P0, P3', 2.0],\n",
              " ['P0, P0, P4', 72.0],\n",
              " ['P0, P0, P5', 8.0],\n",
              " ['P0, P0, P6', 32.0],\n",
              " ['P0, P0, P7', 0.0],\n",
              " ['P0, P1, P0', 21.5],\n",
              " ['P0, P1, P1', -2.5],\n",
              " ['P0, P1, P2', 1.5],\n",
              " ['P0, P1, P3', 9.5],\n",
              " ['P0, P1, P4', 9.5],\n",
              " ['P0, P1, P5', 1.5],\n",
              " ['P0, P1, P6', -2.5],\n",
              " ['P0, P1, P7', 21.5],\n",
              " ['P0, P2, P0', 11.0],\n",
              " ['P0, P2, P1', -5.0],\n",
              " ['P0, P2, P2', -5.0],\n",
              " ['P0, P2, P3', 11.0],\n",
              " ['P0, P2, P4', 1.0],\n",
              " ['P0, P2, P5', 1.0],\n",
              " ['P0, P2, P6', -7.0],\n",
              " ['P0, P2, P7', 25.0],\n",
              " ['P0, P3, P0', -9.5],\n",
              " ['P0, P3, P1', 30.5],\n",
              " ['P0, P3, P2', 2.5],\n",
              " ['P0, P3, P3', 74.5],\n",
              " ['P0, P3, P4', -5.5],\n",
              " ['P0, P3, P5', 50.5],\n",
              " ['P0, P3, P6', 14.5],\n",
              " ['P0, P3, P7', 102.5],\n",
              " ['P0, P4, P0', 27.0],\n",
              " ['P0, P4, P1', -5.0],\n",
              " ['P0, P4, P2', 3.0],\n",
              " ['P0, P4, P3', 3.0],\n",
              " ['P0, P4, P4', 13.0],\n",
              " ['P0, P4, P5', -3.0],\n",
              " ['P0, P4, P6', -3.0],\n",
              " ['P0, P4, P7', 13.0],\n",
              " ['P0, P5, P0', -7.5],\n",
              " ['P0, P5, P1', 16.5],\n",
              " ['P0, P5, P2', -3.5],\n",
              " ['P0, P5, P3', 52.5],\n",
              " ['P0, P5, P4', -7.5],\n",
              " ['P0, P5, P5', 32.5],\n",
              " ['P0, P5, P6', 4.5],\n",
              " ['P0, P5, P7', 76.5],\n",
              " ['P0, P6, P0', -12.0],\n",
              " ['P0, P6, P1', 20.0],\n",
              " ['P0, P6, P2', -4.0],\n",
              " ['P0, P6, P3', 60.0],\n",
              " ['P0, P6, P4', -10.0],\n",
              " ['P0, P6, P5', 38.0],\n",
              " ['P0, P6, P6', 6.0],\n",
              " ['P0, P6, P7', 86.0],\n",
              " ['P0, P7, P0', 9.5],\n",
              " ['P0, P7, P1', 97.5],\n",
              " ['P0, P7, P2', 45.5],\n",
              " ['P0, P7, P3', 165.5],\n",
              " ['P0, P7, P4', 25.5],\n",
              " ['P0, P7, P5', 129.5],\n",
              " ['P0, P7, P6', 69.5],\n",
              " ['P0, P7, P7', 205.5],\n",
              " ['P1, P0, P0', 38.5],\n",
              " ['P1, P0, P1', -1.5],\n",
              " ['P1, P0, P2', 10.5],\n",
              " ['P1, P0, P3', 2.5],\n",
              " ['P1, P0, P4', 22.5],\n",
              " ['P1, P0, P5', -1.5],\n",
              " ['P1, P0, P6', 2.5],\n",
              " ['P1, P0, P7', 10.5],\n",
              " ['P1, P1, P0', -3.0],\n",
              " ['P1, P1, P1', 13.0],\n",
              " ['P1, P1, P2', -3.0],\n",
              " ['P1, P1, P3', 45.0],\n",
              " ['P1, P1, P4', -5.0],\n",
              " ['P1, P1, P5', 27.0],\n",
              " ['P1, P1, P6', 3.0],\n",
              " ['P1, P1, P7', 67.0],\n",
              " ['P1, P2, P0', -8.5],\n",
              " ['P1, P2, P1', 15.5],\n",
              " ['P1, P2, P2', -4.5],\n",
              " ['P1, P2, P3', 51.5],\n",
              " ['P1, P2, P4', -8.5],\n",
              " ['P1, P2, P5', 31.5],\n",
              " ['P1, P2, P6', 3.5],\n",
              " ['P1, P2, P7', 75.5],\n",
              " ['P1, P3, P0', 6.0],\n",
              " ['P1, P3, P1', 86.0],\n",
              " ['P1, P3, P2', 38.0],\n",
              " ['P1, P3, P3', 150.0],\n",
              " ['P1, P3, P4', 20.0],\n",
              " ['P1, P3, P5', 116.0],\n",
              " ['P1, P3, P6', 60.0],\n",
              " ['P1, P3, P7', 188.0],\n",
              " ['P1, P4, P0', -2.5],\n",
              " ['P1, P4, P1', 5.5],\n",
              " ['P1, P4, P2', -6.5],\n",
              " ['P1, P4, P3', 33.5],\n",
              " ['P1, P4, P4', -6.5],\n",
              " ['P1, P4, P5', 17.5],\n",
              " ['P1, P4, P6', -2.5],\n",
              " ['P1, P4, P7', 53.5],\n",
              " ['P1, P5, P0', -2.0],\n",
              " ['P1, P5, P1', 62.0],\n",
              " ['P1, P5, P2', 22.0],\n",
              " ['P1, P5, P3', 118.0],\n",
              " ['P1, P5, P4', 8.0],\n",
              " ['P1, P5, P5', 88.0],\n",
              " ['P1, P5, P6', 40.0],\n",
              " ['P1, P5, P7', 152.0],\n",
              " ['P1, P6, P0', -1.5],\n",
              " ['P1, P6, P1', 70.5],\n",
              " ['P1, P6, P2', 26.5],\n",
              " ['P1, P6, P3', 130.5],\n",
              " ['P1, P6, P4', 10.5],\n",
              " ['P1, P6, P5', 98.5],\n",
              " ['P1, P6, P6', 46.5],\n",
              " ['P1, P6, P7', 166.5],\n",
              " ['P1, P7, P0', 55.0],\n",
              " ['P1, P7, P1', 183.0],\n",
              " ['P1, P7, P2', 111.0],\n",
              " ['P1, P7, P3', 271.0],\n",
              " ['P1, P7, P4', 81.0],\n",
              " ['P1, P7, P5', 225.0],\n",
              " ['P1, P7, P6', 145.0],\n",
              " ['P1, P7, P7', 321.0]]"
            ]
          },
          "metadata": {},
          "execution_count": 27
        }
      ]
    },
    {
      "cell_type": "markdown",
      "source": [
        "Optimization."
      ],
      "metadata": {
        "id": "9SUy-Um9na6u"
      }
    },
    {
      "cell_type": "code",
      "source": [
        "nfocks = [8, 8]\n",
        "ndepth = 5"
      ],
      "metadata": {
        "id": "3DGeAJCbjYeE"
      },
      "execution_count": null,
      "outputs": []
    },
    {
      "cell_type": "code",
      "source": [
        "en, Xvec, int_results = ecd_opt_vqe(bkp_ham1, ndepth, nfocks, maxiter=200, method='BFGS',\n",
        "                                    verb=1, threshold=1e-12)\n",
        "en"
      ],
      "metadata": {
        "colab": {
          "base_uri": "https://localhost:8080/"
        },
        "id": "H9VexBmXnjmj",
        "outputId": "c376e6a2-ef9b-4646-ceb4-57d0ad2bed10"
      },
      "execution_count": null,
      "outputs": [
        {
          "output_type": "stream",
          "name": "stderr",
          "text": [
            "<ipython-input-21-546bbbcad45f>:66: RuntimeWarning: Method BFGS cannot handle bounds.\n",
            "  result = sciopt.minimize(obj_fun, Xvec, method=method, bounds=bounds,\n"
          ]
        },
        {
          "output_type": "stream",
          "name": "stdout",
          "text": [
            "-------------------\n",
            "iter: 10\n",
            "fval: 1.0144571586242686\n",
            "-------------------\n",
            "iter: 20\n",
            "fval: -6.334910912495342\n",
            "-------------------\n",
            "iter: 30\n",
            "fval: -8.278028409573478\n",
            "-------------------\n",
            "iter: 40\n",
            "fval: -9.478233339449334\n",
            "-------------------\n",
            "iter: 50\n",
            "fval: -10.327837376245908\n",
            "-------------------\n",
            "iter: 60\n",
            "fval: -11.509175156521225\n",
            "-------------------\n",
            "iter: 70\n",
            "fval: -11.821581539851751\n",
            "-------------------\n",
            "iter: 80\n",
            "fval: -11.9588615689411\n",
            "-------------------\n",
            "iter: 90\n",
            "fval: -11.991235718481052\n",
            "-------------------\n",
            "iter: 100\n",
            "fval: -11.994098175878396\n",
            "-------------------\n",
            "iter: 110\n",
            "fval: -11.995047161485346\n",
            "-------------------\n",
            "iter: 120\n",
            "fval: -11.995656508736353\n",
            "-------------------\n",
            "iter: 130\n",
            "fval: -11.995863291089687\n",
            "-------------------\n",
            "iter: 140\n",
            "fval: -11.995963422404083\n",
            "-------------------\n",
            "iter: 150\n",
            "fval: -11.995995999444064\n",
            "-------------------\n",
            "iter: 160\n",
            "fval: -11.996026208426889\n",
            "-------------------\n",
            "iter: 170\n",
            "fval: -11.996041852348526\n",
            "-------------------\n",
            "iter: 180\n",
            "fval: -11.99605322592974\n",
            "-------------------\n",
            "iter: 190\n",
            "fval: -11.996058322843128\n",
            "-------------------\n",
            "iter: 200\n",
            "fval: -11.996059486626715\n",
            "         Current function value: -11.996059\n",
            "         Iterations: 200\n",
            "         Function evaluations: 8774\n",
            "         Gradient evaluations: 214\n"
          ]
        },
        {
          "output_type": "execute_result",
          "data": {
            "text/plain": [
              "-11.996059486626715"
            ]
          },
          "metadata": {},
          "execution_count": 50
        }
      ]
    },
    {
      "cell_type": "code",
      "source": [
        "int_results"
      ],
      "metadata": {
        "colab": {
          "base_uri": "https://localhost:8080/"
        },
        "id": "BymbUlih-RK5",
        "outputId": "daee0006-6d53-42a9-e1bb-83f2e926aadb"
      },
      "execution_count": null,
      "outputs": [
        {
          "output_type": "execute_result",
          "data": {
            "text/plain": [
              "[(1.0144571586242686,\n",
              "  array([ 2.48739857, -0.12819412,  0.88434011,  0.43764229,  1.67086808,\n",
              "          0.49781909,  0.57462852, -0.62726047,  2.57705518,  0.1944916 ,\n",
              "          1.14474476,  0.69802012,  0.92246096,  2.84541755,  0.99919422,\n",
              "          1.48834651,  0.30989539,  3.19382233,  2.17985267,  0.21961605,\n",
              "          2.55260936,  3.06824862,  2.21747252,  1.98349449,  3.09151926,\n",
              "          1.51403241,  0.86229736,  2.01097929,  1.61897112,  2.9558595 ,\n",
              "          0.39720226,  2.97984452,  1.41282515,  2.61228042,  3.8082838 ,\n",
              "          2.81306479,  1.48460125,  2.17267392,  0.84214299,  2.16563646])),\n",
              " (-6.334910912495342,\n",
              "  array([ 1.90284439,  0.09920202,  1.10510627, -0.09652391,  1.66792679,\n",
              "          0.08532734,  0.94868686, -0.11853647,  3.29192597, -0.11900798,\n",
              "          1.16738285,  1.14039173,  1.01012179,  2.6459994 ,  1.18880303,\n",
              "          1.19089898,  0.13692227,  3.28409532,  2.05291243,  0.18383694,\n",
              "          2.94312169,  3.01135765,  3.23508406,  1.8153325 ,  3.72627542,\n",
              "          1.26835619,  0.6992926 ,  3.21856676,  2.11950173,  3.22959127,\n",
              "          0.31033007,  3.05406142,  1.50380249,  2.42123707,  3.80458999,\n",
              "          2.42625088,  1.23295921,  2.17102981,  1.47730817,  3.05485384])),\n",
              " (-8.278028409573478,\n",
              "  array([ 1.85731015,  0.00686702,  1.2631575 ,  0.01918549,  1.63157009,\n",
              "          0.05067224,  0.865051  , -0.02492006,  3.14408104, -0.01150044,\n",
              "          1.27284616,  1.02381754,  0.84421169,  2.71847633,  1.36255543,\n",
              "          1.28051928, -0.05363566,  3.36317879,  2.1301527 ,  0.05923347,\n",
              "          2.66401467,  2.32175417,  3.3253155 ,  2.07005475,  3.3241894 ,\n",
              "          1.64280708,  0.72172164,  3.4673812 ,  1.97135999,  3.46297635,\n",
              "          0.11739479,  2.64225966,  1.75434779,  2.63703066,  3.47920695,\n",
              "          2.25224267,  1.13797986,  2.21126683,  1.7940156 ,  3.33858588])),\n",
              " (-9.478233339449334,\n",
              "  array([ 1.94111673, -0.0072472 ,  1.61576669, -0.04660786,  1.27919054,\n",
              "          0.0496713 ,  0.94772151,  0.01834047,  3.15524807, -0.03545164,\n",
              "          1.69378991,  0.75717024,  0.43210631,  3.17297957,  1.47516426,\n",
              "          1.28855496, -0.1889097 ,  3.38068115,  2.14392337, -0.15413036,\n",
              "          2.39611849,  2.55486973,  3.85671547,  2.95847667,  2.66170915,\n",
              "          1.79742988,  0.77828173,  3.82923118,  2.00982064,  3.86880821,\n",
              "         -0.43095187,  2.14997098,  2.32786268,  3.28954821,  2.98542103,\n",
              "          2.28071747,  1.46613772,  2.49705023,  1.49562273,  2.42523346])),\n",
              " (-10.327837376245908,\n",
              "  array([ 1.87252671e+00,  1.75005190e-02,  2.11315567e+00,  1.57664518e-02,\n",
              "          1.04964972e+00,  3.96855386e-03,  8.69249067e-01, -2.03454626e-02,\n",
              "          3.30390190e+00, -1.30296573e-03,  1.73766346e+00,  1.15327792e+00,\n",
              "          4.55295487e-01,  2.78567968e+00,  1.43573206e+00,  1.26846841e+00,\n",
              "         -1.53187253e-01,  3.29574514e+00,  2.08052627e+00, -5.78994618e-02,\n",
              "          2.59533422e+00,  2.69141255e+00,  4.06454897e+00,  3.21580672e+00,\n",
              "          2.60635513e+00,  1.45314151e+00,  7.08307320e-01,  3.72631135e+00,\n",
              "          1.99831384e+00,  3.77167168e+00, -5.53591391e-01,  1.40837942e+00,\n",
              "          2.84673017e+00,  3.55587700e+00,  2.76899348e+00,  2.65128382e+00,\n",
              "          1.19817756e+00,  2.45239929e+00,  1.62676134e+00,  2.61756139e+00])),\n",
              " (-11.509175156521225,\n",
              "  array([ 1.23662828e+00,  2.82642151e-02,  2.34043532e+00, -4.51690821e-03,\n",
              "          9.25451956e-01,  2.53303927e-02,  7.59023919e-01,  2.57998002e-02,\n",
              "          3.50235087e+00,  5.92557061e-02,  2.07571068e+00,  1.14269374e+00,\n",
              "          2.63116224e-01,  3.45936440e+00,  1.43285303e+00,  1.34787214e+00,\n",
              "         -2.13327765e-01,  2.62716150e+00,  1.99763267e+00, -1.31727793e-01,\n",
              "          2.01559267e+00,  3.02754845e+00,  4.80214677e+00,  3.84731363e+00,\n",
              "          2.15965243e+00,  1.25819799e+00,  1.07051782e+00,  3.72894921e+00,\n",
              "          1.94303017e+00,  4.28247421e+00, -4.89720081e-01,  1.17216455e+00,\n",
              "          2.97844095e+00,  3.70502825e+00,  2.34588313e+00,  2.81359119e+00,\n",
              "          1.40257925e+00,  2.32045065e+00,  1.57835929e+00,  2.60265816e+00])),\n",
              " (-11.821581539851751,\n",
              "  array([ 1.34300947e+00,  9.13376523e-04,  2.31927052e+00, -4.67778671e-03,\n",
              "          1.07382452e+00, -2.80725023e-03,  8.09927608e-01,  4.55103121e-03,\n",
              "          3.45410512e+00,  7.84341757e-03,  2.03446701e+00,  9.02586137e-01,\n",
              "          2.19962594e-01,  3.76763013e+00,  1.57910884e+00,  1.31575159e+00,\n",
              "         -2.63084393e-01,  2.70177255e+00,  1.98549025e+00, -2.42336403e-01,\n",
              "          1.54485417e+00,  2.79212680e+00,  4.67032777e+00,  3.86921325e+00,\n",
              "          2.18407549e+00,  1.32848093e+00,  1.19199584e+00,  4.13457077e+00,\n",
              "          2.15134767e+00,  4.74714524e+00, -6.56777925e-01,  1.27296550e+00,\n",
              "          2.77595625e+00,  4.00712269e+00,  2.02973342e+00,  2.34253252e+00,\n",
              "          1.69939613e+00,  2.33914956e+00,  1.67140985e+00,  2.35627537e+00])),\n",
              " (-11.9588615689411,\n",
              "  array([ 1.33462685e+00, -6.99846574e-04,  2.62932265e+00,  2.96496558e-03,\n",
              "          8.28578308e-01, -9.18900910e-03,  8.71634100e-01, -6.83180907e-03,\n",
              "          3.47912759e+00,  3.08510424e-03,  1.88918769e+00,  9.89892641e-01,\n",
              "          1.47392132e-01,  3.49763176e+00,  1.83680528e+00,  1.31787825e+00,\n",
              "         -1.96714995e-01,  2.99778288e+00,  1.87902509e+00, -3.57620019e-01,\n",
              "          1.63233947e+00,  2.68667053e+00,  4.53003247e+00,  4.12248852e+00,\n",
              "          1.88573060e+00,  1.44689678e+00,  1.43203943e+00,  3.66912499e+00,\n",
              "          1.96005381e+00,  4.65181345e+00, -4.57889946e-01,  1.05729381e+00,\n",
              "          3.12194938e+00,  4.05193472e+00,  1.69810498e+00,  2.05820759e+00,\n",
              "          1.72898656e+00,  2.35615431e+00,  1.50089051e+00,  2.86681889e+00])),\n",
              " (-11.991235718481052,\n",
              "  array([ 1.31671489e+00,  1.54543685e-03,  2.68745287e+00,  1.47327553e-03,\n",
              "          7.96874934e-01, -5.81907684e-03,  9.06895910e-01,  3.41279168e-04,\n",
              "          3.48569374e+00,  1.07862663e-03,  1.86908976e+00,  1.01868697e+00,\n",
              "          1.13965142e-01,  3.47531743e+00,  1.92471460e+00,  1.33600619e+00,\n",
              "         -1.78740614e-01,  3.03017350e+00,  1.82648486e+00, -4.14560326e-01,\n",
              "          1.56661674e+00,  2.70076964e+00,  4.56510589e+00,  4.20993755e+00,\n",
              "          1.87148373e+00,  1.52273141e+00,  1.59131919e+00,  3.61011945e+00,\n",
              "          1.91209510e+00,  4.71276594e+00, -3.47311457e-01,  9.44471759e-01,\n",
              "          3.17423581e+00,  4.13048682e+00,  1.51360112e+00,  1.95935733e+00,\n",
              "          1.77435076e+00,  2.39067989e+00,  1.46457206e+00,  2.95284166e+00])),\n",
              " (-11.994098175878396,\n",
              "  array([ 1.31543721e+00,  4.19125232e-05,  2.69091893e+00,  4.78140371e-05,\n",
              "          7.62046600e-01, -3.05136621e-05,  9.06677328e-01, -9.25847524e-06,\n",
              "          3.48833760e+00, -5.44241763e-05,  1.86175882e+00,  1.02895777e+00,\n",
              "          1.22894546e-01,  3.42981426e+00,  1.93125803e+00,  1.36575701e+00,\n",
              "         -1.73687408e-01,  3.04011995e+00,  1.81309038e+00, -4.19001023e-01,\n",
              "          1.57201750e+00,  2.73356003e+00,  4.59509675e+00,  4.23633319e+00,\n",
              "          1.86836271e+00,  1.53497772e+00,  1.63272067e+00,  3.57953354e+00,\n",
              "          1.85729190e+00,  4.71109462e+00, -2.68632447e-01,  9.05883153e-01,\n",
              "          3.16725547e+00,  4.19342900e+00,  1.46042381e+00,  1.94172154e+00,\n",
              "          1.82768420e+00,  2.37999088e+00,  1.43935156e+00,  3.00341530e+00])),\n",
              " (-11.995047161485346,\n",
              "  array([ 1.31047481e+00,  8.70102266e-05,  2.67096577e+00,  2.83676707e-04,\n",
              "          6.72846716e-01, -6.45130854e-04,  8.89935604e-01,  2.14285019e-04,\n",
              "          3.49217185e+00, -6.92747197e-05,  1.83618924e+00,  9.87225923e-01,\n",
              "          1.26651021e-01,  3.38645540e+00,  1.90978287e+00,  1.37324238e+00,\n",
              "         -1.22856208e-01,  3.07312239e+00,  1.80367758e+00, -3.74344944e-01,\n",
              "          1.56964594e+00,  2.73022971e+00,  4.56121070e+00,  4.25772923e+00,\n",
              "          1.83234371e+00,  1.52409705e+00,  1.59587819e+00,  3.49028598e+00,\n",
              "          1.79935965e+00,  4.71263592e+00, -1.79280613e-01,  8.35798512e-01,\n",
              "          3.22981975e+00,  4.13864457e+00,  1.46613853e+00,  1.98086633e+00,\n",
              "          1.82571410e+00,  2.39594075e+00,  1.36167509e+00,  3.15075627e+00])),\n",
              " (-11.995656508736353,\n",
              "  array([ 1.30576468e+00,  2.41049500e-05,  2.65402387e+00,  2.82297762e-04,\n",
              "          5.74550465e-01, -2.91299765e-04,  8.70664882e-01,  2.08858321e-04,\n",
              "          3.49777481e+00,  1.37537956e-04,  1.81447852e+00,  9.34253304e-01,\n",
              "          1.35184541e-01,  3.32368622e+00,  1.87851969e+00,  1.39596817e+00,\n",
              "         -6.70152718e-02,  3.09920910e+00,  1.78994914e+00, -3.07284598e-01,\n",
              "          1.56979604e+00,  2.72050927e+00,  4.53562778e+00,  4.27434515e+00,\n",
              "          1.79660397e+00,  1.45977237e+00,  1.52036825e+00,  3.40462901e+00,\n",
              "          1.73823795e+00,  4.71269525e+00, -8.32353691e-02,  7.50726463e-01,\n",
              "          3.31058445e+00,  4.06784202e+00,  1.45452369e+00,  2.04583953e+00,\n",
              "          1.84851931e+00,  2.42590261e+00,  1.26857965e+00,  3.30616660e+00])),\n",
              " (-11.995863291089687,\n",
              "  array([ 1.30343323e+00, -1.08592016e-04,  2.64763197e+00, -5.80287954e-04,\n",
              "          5.22437594e-01,  4.57419135e-04,  8.61563931e-01,  1.41825337e-04,\n",
              "          3.50066654e+00, -1.40998894e-04,  1.79645420e+00,  8.90964108e-01,\n",
              "          1.37067462e-01,  3.27829377e+00,  1.86583237e+00,  1.41649445e+00,\n",
              "         -3.13196492e-02,  3.12616533e+00,  1.78113500e+00, -2.65973722e-01,\n",
              "          1.57106059e+00,  2.70062003e+00,  4.50686005e+00,  4.28861234e+00,\n",
              "          1.77128725e+00,  1.39764057e+00,  1.46604186e+00,  3.35432402e+00,\n",
              "          1.70273133e+00,  4.71184888e+00, -3.32023786e-02,  6.99426688e-01,\n",
              "          3.37196263e+00,  4.01115754e+00,  1.43651475e+00,  2.07942483e+00,\n",
              "          1.88281445e+00,  2.45721814e+00,  1.19975100e+00,  3.40789620e+00])),\n",
              " (-11.995963422404083,\n",
              "  array([ 1.30187898e+00, -1.80578922e-04,  2.63969213e+00, -7.03067356e-04,\n",
              "          4.79212640e-01,  7.57433056e-04,  8.53861772e-01,  1.93509224e-04,\n",
              "          3.50214574e+00, -5.68556296e-05,  1.78503075e+00,  8.44603929e-01,\n",
              "          1.41225291e-01,  3.23806500e+00,  1.84742730e+00,  1.44266392e+00,\n",
              "         -1.02958309e-03,  3.13773518e+00,  1.77407282e+00, -2.17017226e-01,\n",
              "          1.57131927e+00,  2.67896031e+00,  4.48569657e+00,  4.30227587e+00,\n",
              "          1.74610283e+00,  1.31490375e+00,  1.40211576e+00,  3.32349247e+00,\n",
              "          1.68254285e+00,  4.71212298e+00,  1.69175393e-03,  6.58698553e-01,\n",
              "          3.42618569e+00,  3.95347473e+00,  1.42096632e+00,  2.11794647e+00,\n",
              "          1.93169306e+00,  2.49152481e+00,  1.13567810e+00,  3.49170821e+00])),\n",
              " (-11.995995999444064,\n",
              "  array([ 1.30177660e+00,  2.03741379e-05,  2.63582200e+00,  8.79309377e-05,\n",
              "          4.61512309e-01, -5.93491010e-05,  8.50315891e-01, -6.90165521e-06,\n",
              "          3.50266273e+00,  3.31034102e-05,  1.78212534e+00,  8.21224476e-01,\n",
              "          1.44011116e-01,  3.22043981e+00,  1.83587587e+00,  1.45790141e+00,\n",
              "          1.18095695e-02,  3.13608876e+00,  1.77130344e+00, -1.89516433e-01,\n",
              "          1.57055583e+00,  2.66735660e+00,  4.47812183e+00,  4.30937800e+00,\n",
              "          1.73307815e+00,  1.26708213e+00,  1.36798108e+00,  3.31656143e+00,\n",
              "          1.68132568e+00,  4.71272434e+00,  1.13892989e-02,  6.42989538e-01,\n",
              "          3.45064798e+00,  3.92375473e+00,  1.41539451e+00,  2.13846005e+00,\n",
              "          1.96153308e+00,  2.50957479e+00,  1.10579339e+00,  3.52702762e+00])),\n",
              " (-11.996026208426889,\n",
              "  array([ 1.30108057e+00,  7.72712250e-07,  2.63405474e+00,  3.82610781e-05,\n",
              "          4.40273892e-01, -3.20945022e-05,  8.47744842e-01, -1.94287166e-05,\n",
              "          3.50355374e+00,  2.63953003e-06,  1.76817000e+00,  7.86812256e-01,\n",
              "          1.43928112e-01,  3.18981467e+00,  1.83330726e+00,  1.48152573e+00,\n",
              "          3.05144444e-02,  3.15478212e+00,  1.76626975e+00, -1.66676917e-01,\n",
              "          1.57069345e+00,  2.65022971e+00,  4.45747160e+00,  4.32851589e+00,\n",
              "          1.71528488e+00,  1.21297716e+00,  1.34554386e+00,  3.29672043e+00,\n",
              "          1.66305093e+00,  4.71246301e+00,  3.47682574e-02,  6.16509116e-01,\n",
              "          3.48878205e+00,  3.88760766e+00,  1.39387630e+00,  2.14960430e+00,\n",
              "          2.01181316e+00,  2.53601604e+00,  1.05436741e+00,  3.59076653e+00])),\n",
              " (-11.996041852348526,\n",
              "  array([ 1.30119170e+00,  4.60013542e-05,  2.63085314e+00,  1.50633519e-04,\n",
              "          4.25486703e-01, -6.25750902e-05,  8.44896235e-01,  6.41276946e-05,\n",
              "          3.50392805e+00, -7.17459485e-05,  1.76541722e+00,  7.60769365e-01,\n",
              "          1.45673357e-01,  3.17234573e+00,  1.82231165e+00,  1.50239933e+00,\n",
              "          4.29139865e-02,  3.15086384e+00,  1.76281060e+00, -1.40040606e-01,\n",
              "          1.57058903e+00,  2.63798968e+00,  4.45098282e+00,  4.34214266e+00,\n",
              "          1.69850206e+00,  1.15904045e+00,  1.31732503e+00,  3.29302542e+00,\n",
              "          1.66571468e+00,  4.71255925e+00,  4.24160716e-02,  6.01077158e-01,\n",
              "          3.51522692e+00,  3.85531439e+00,  1.38478980e+00,  2.16803110e+00,\n",
              "          2.05381666e+00,  2.55762999e+00,  1.01897226e+00,  3.62994745e+00])),\n",
              " (-11.99605322592974,\n",
              "  array([ 1.30076830e+00, -5.06272808e-06,  2.62860771e+00, -1.95983093e-06,\n",
              "          4.09892667e-01,  3.74533170e-05,  8.42681433e-01,  1.43241335e-05,\n",
              "          3.50437631e+00, -1.00768518e-05,  1.75645062e+00,  7.26634882e-01,\n",
              "          1.46506199e-01,  3.14831686e+00,  1.81502461e+00,  1.53008253e+00,\n",
              "          5.77708812e-02,  3.15563757e+00,  1.75855055e+00, -1.14201362e-01,\n",
              "          1.57077433e+00,  2.62280949e+00,  4.43795936e+00,  4.36351521e+00,\n",
              "          1.67911421e+00,  1.09897493e+00,  1.29759089e+00,  3.28509641e+00,\n",
              "          1.66053845e+00,  4.71243959e+00,  5.53234552e-02,  5.81233355e-01,\n",
              "          3.54867275e+00,  3.81787770e+00,  1.36824046e+00,  2.18169365e+00,\n",
              "          2.11211862e+00,  2.58458877e+00,  9.69726854e-01,  3.68521521e+00])),\n",
              " (-11.996058322843128,\n",
              "  array([ 1.30062954e+00, -1.24278041e-06,  2.62660214e+00,  1.83834968e-06,\n",
              "          3.97132712e-01,  1.14271591e-05,  8.40629867e-01,  1.07016229e-05,\n",
              "          3.50478723e+00, -1.27344868e-05,  1.74953261e+00,  6.93994790e-01,\n",
              "          1.47001610e-01,  3.12799529e+00,  1.80640937e+00,  1.55884885e+00,\n",
              "          7.09139019e-02,  3.15464991e+00,  1.75424658e+00, -8.88477676e-02,\n",
              "          1.57077454e+00,  2.60921244e+00,  4.42851318e+00,  4.38645438e+00,\n",
              "          1.65915067e+00,  1.03907659e+00,  1.28231993e+00,  3.28200961e+00,\n",
              "          1.66148580e+00,  4.71242101e+00,  6.42349098e-02,  5.63874804e-01,\n",
              "          3.57996711e+00,  3.78039993e+00,  1.35352031e+00,  2.19569721e+00,\n",
              "          2.17200946e+00,  2.61128645e+00,  9.22046375e-01,  3.73683948e+00])),\n",
              " (-11.996059486626715,\n",
              "  array([ 1.30060850e+00, -4.33374887e-06,  2.62547882e+00,  1.13392359e-05,\n",
              "          3.91112978e-01,  7.87495948e-06,  8.39545044e-01,  1.23459167e-06,\n",
              "          3.50495502e+00, -1.00222939e-05,  1.74685596e+00,  6.76492714e-01,\n",
              "          1.47308172e-01,  3.11847258e+00,  1.80045700e+00,  1.57540611e+00,\n",
              "          7.73068290e-02,  3.15067629e+00,  1.75185679e+00, -7.43103526e-02,\n",
              "          1.57078993e+00,  2.60251717e+00,  4.42533696e+00,  4.39975606e+00,\n",
              "          1.64764747e+00,  1.00542981e+00,  1.27507990e+00,  3.28270690e+00,\n",
              "          1.66511265e+00,  4.71241360e+00,  6.69403748e-02,  5.55600944e-01,\n",
              "          3.59613062e+00,  3.75956436e+00,  1.34672942e+00,  2.20404855e+00,\n",
              "          2.20619039e+00,  2.62586488e+00,  8.96471661e-01,  3.76359964e+00]))]"
            ]
          },
          "metadata": {},
          "execution_count": 51
        }
      ]
    }
  ],
  "metadata": {
    "kernelspec": {
      "display_name": "Python 3",
      "name": "python3"
    },
    "language_info": {
      "codemirror_mode": {
        "name": "ipython",
        "version": 3
      },
      "file_extension": ".py",
      "mimetype": "text/x-python",
      "name": "python",
      "nbconvert_exporter": "python",
      "pygments_lexer": "ipython3",
      "version": "3.10.2"
    },
    "toc": {
      "base_numbering": 1,
      "nav_menu": {},
      "number_sections": true,
      "sideBar": true,
      "skip_h1_title": false,
      "title_cell": "Table of Contents",
      "title_sidebar": "Contents",
      "toc_cell": true,
      "toc_position": {},
      "toc_section_display": true,
      "toc_window_display": false
    },
    "colab": {
      "provenance": [],
      "collapsed_sections": [
        "AIZZvMz22Vn1",
        "2AqDuXYWj11q",
        "HtqShu-vixG1",
        "SlnpmbAAZMsD",
        "BbsnjUVwaGAw",
        "ftaKP4B3dvwl"
      ],
      "machine_shape": "hm",
      "gpuType": "T4",
      "toc_visible": true
    },
    "accelerator": "GPU"
  },
  "nbformat": 4,
  "nbformat_minor": 0
}